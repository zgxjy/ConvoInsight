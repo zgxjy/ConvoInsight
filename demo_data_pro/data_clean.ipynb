{
 "cells": [
  {
   "cell_type": "markdown",
   "metadata": {},
   "source": [
    "# 一、数据清洗"
   ]
  },
  {
   "cell_type": "code",
   "execution_count": 1,
   "metadata": {},
   "outputs": [],
   "source": [
    "import pymongo\n",
    "# MongoDB连接配置\n",
    "mongo_client = pymongo.MongoClient(\"mongodb://localhost:27017/\")\n",
    "convoinsight_db = mongo_client[\"convoinsight\"]\n",
    "conversations_collection = convoinsight_db[\"conversations\"]"
   ]
  },
  {
   "cell_type": "markdown",
   "metadata": {},
   "source": [
    "## 1. 清洗会话用户情感"
   ]
  },
  {
   "cell_type": "code",
   "execution_count": 5,
   "metadata": {},
   "outputs": [
    {
     "name": "stdout",
     "output_type": "stream",
     "text": [
      "Counter({'中立': 17716, '负向': 7580, '正向': 2575})\n"
     ]
    }
   ],
   "source": [
    "#查看用户会话的sentiments的所有情感类型值和频数\n",
    "# conversations_collection.find_one()\n",
    "# 查询所有用户消息\n",
    "from collections import Counter\n",
    "user_messages = conversations_collection.aggregate([\n",
    "    {\"$unwind\": \"$messages\"},\n",
    "    {\"$match\": {\"messages.type\": \"user\"}},\n",
    "    {\"$project\": {\"sentiment\": \"$messages.sentiment\"}}\n",
    "])\n",
    "\n",
    "# 提取情感并统计频数\n",
    "sentiments = [msg['sentiment'] for msg in user_messages if 'sentiment' in msg]\n",
    "sentiment_counts = Counter(sentiments)\n",
    "\n",
    "# 输出结果\n",
    "print(sentiment_counts)"
   ]
  },
  {
   "cell_type": "code",
   "execution_count": 4,
   "metadata": {},
   "outputs": [],
   "source": [
    "# 定义情感映射\n",
    "sentiment_mapping = {\n",
    "    '中立': '中立', 'neutral': '中立', 'Neutral': '中立', 'N/A': '中立', '': '中立',\n",
    "    '负向': '负向', 'negative': '负向', 'Negative': '负向', 'negaitve': '负向', '負向': '负向',\n",
    "    '正向': '正向', 'positive': '正向', 'Positive': '正向', '积极': '正向',\n",
    "    # 其他情感类型可以根据需要进行归类\n",
    "    'frustrated': '负向', 'concerned': '负向', 'disappointed': '负向',\n",
    "    'apologetic': '负向', 'confused': '中立', '请求': '中立', '要求': '中立',\n",
    "    'hopeful': '正向', '幽默': '中立', '疑惑': '中立', '疑问': '中立', 'affirmative': '正向'\n",
    "}\n",
    "\n",
    "# 更新数据库中的情感数据\n",
    "for message in conversations_collection.find({\"messages.type\": \"user\"}):\n",
    "    updated_messages = []\n",
    "    for msg in message['messages']:\n",
    "        if msg['type'] == 'user' and 'sentiment' in msg:\n",
    "            original_sentiment = msg['sentiment']\n",
    "            # 映射情感\n",
    "            msg['sentiment'] = sentiment_mapping.get(original_sentiment, '中立')\n",
    "        updated_messages.append(msg)\n",
    "    \n",
    "    # 更新数据库\n",
    "    conversations_collection.update_one(\n",
    "        {\"_id\": message[\"_id\"]},\n",
    "        {\"$set\": {\"messages\": updated_messages}}\n",
    "    )\n"
   ]
  },
  {
   "cell_type": "code",
   "execution_count": null,
   "metadata": {},
   "outputs": [],
   "source": []
  }
 ],
 "metadata": {
  "kernelspec": {
   "display_name": "base",
   "language": "python",
   "name": "python3"
  },
  "language_info": {
   "codemirror_mode": {
    "name": "ipython",
    "version": 3
   },
   "file_extension": ".py",
   "mimetype": "text/x-python",
   "name": "python",
   "nbconvert_exporter": "python",
   "pygments_lexer": "ipython3",
   "version": "3.11.7"
  }
 },
 "nbformat": 4,
 "nbformat_minor": 2
}
