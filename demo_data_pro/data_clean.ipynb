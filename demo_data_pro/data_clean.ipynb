{
 "cells": [
  {
   "cell_type": "markdown",
   "metadata": {},
   "source": [
    "# 一、数据清洗"
   ]
  },
  {
   "cell_type": "code",
   "execution_count": 1,
   "metadata": {},
   "outputs": [],
   "source": [
    "import pymongo\n",
    "# MongoDB连接配置\n",
    "mongo_client = pymongo.MongoClient(\"mongodb://localhost:27017/\")\n",
    "convoinsight_db = mongo_client[\"convoinsight\"]\n",
    "conversations_collection = convoinsight_db[\"conversations\"]"
   ]
  },
  {
   "cell_type": "markdown",
   "metadata": {},
   "source": [
    "## 1. 清洗会话用户情感"
   ]
  },
  {
   "cell_type": "code",
   "execution_count": 5,
   "metadata": {},
   "outputs": [
    {
     "name": "stdout",
     "output_type": "stream",
     "text": [
      "Counter({'中立': 17716, '负向': 7580, '正向': 2575})\n"
     ]
    }
   ],
   "source": [
    "#查看用户会话的sentiments的所有情感类型值和频数\n",
    "# conversations_collection.find_one()\n",
    "# 查询所有用户消息\n",
    "from collections import Counter\n",
    "user_messages = conversations_collection.aggregate([\n",
    "    {\"$unwind\": \"$messages\"},\n",
    "    {\"$match\": {\"messages.type\": \"user\"}},\n",
    "    {\"$project\": {\"sentiment\": \"$messages.sentiment\"}}\n",
    "])\n",
    "\n",
    "# 提取情感并统计频数\n",
    "sentiments = [msg['sentiment'] for msg in user_messages if 'sentiment' in msg]\n",
    "sentiment_counts = Counter(sentiments)\n",
    "\n",
    "# 输出结果\n",
    "print(sentiment_counts)"
   ]
  },
  {
   "cell_type": "code",
   "execution_count": 4,
   "metadata": {},
   "outputs": [],
   "source": [
    "# 定义情感映射\n",
    "sentiment_mapping = {\n",
    "    '中立': '中立', 'neutral': '中立', 'Neutral': '中立', 'N/A': '中立', '': '中立',\n",
    "    '负向': '负向', 'negative': '负向', 'Negative': '负向', 'negaitve': '负向', '負向': '负向',\n",
    "    '正向': '正向', 'positive': '正向', 'Positive': '正向', '积极': '正向',\n",
    "    # 其他情感类型可以根据需要进行归类\n",
    "    'frustrated': '负向', 'concerned': '负向', 'disappointed': '负向',\n",
    "    'apologetic': '负向', 'confused': '中立', '请求': '中立', '要求': '中立',\n",
    "    'hopeful': '正向', '幽默': '中立', '疑惑': '中立', '疑问': '中立', 'affirmative': '正向'\n",
    "}\n",
    "\n",
    "# 更新数据库中的情感数据\n",
    "for message in conversations_collection.find({\"messages.type\": \"user\"}):\n",
    "    updated_messages = []\n",
    "    for msg in message['messages']:\n",
    "        if msg['type'] == 'user' and 'sentiment' in msg:\n",
    "            original_sentiment = msg['sentiment']\n",
    "            # 映射情感\n",
    "            msg['sentiment'] = sentiment_mapping.get(original_sentiment, '中立')\n",
    "        updated_messages.append(msg)\n",
    "    \n",
    "    # 更新数据库\n",
    "    conversations_collection.update_one(\n",
    "        {\"_id\": message[\"_id\"]},\n",
    "        {\"$set\": {\"messages\": updated_messages}}\n",
    "    )\n"
   ]
  },
  {
   "cell_type": "code",
   "execution_count": 6,
   "metadata": {},
   "outputs": [
    {
     "data": {
      "text/plain": [
       "{'_id': ObjectId('67ceba7fb6cb42d2b375e45d'),\n",
       " 'agent': '栋栋',\n",
       " 'customerInfo': {'userId': '15951750186', 'device': None, 'history': None},\n",
       " 'interactionAnalysis': {'totalMessages': 6,\n",
       "  'agentMessages': 4,\n",
       "  'userMessages': 3},\n",
       " 'messages': [{'type': 'system', 'content': '有新的咨询进来了。', 'sender': '系统'},\n",
       "  {'type': 'agent',\n",
       "   'content': '您好，欢迎光临影石insta360~我是栋栋，请问有什么可以帮到您的吗？',\n",
       "   'sender': '栋栋'},\n",
       "  {'type': 'user',\n",
       "   'content': 'X4误闯洗衣机，',\n",
       "   'sender': '15951750186',\n",
       "   'sentiment': '中立'},\n",
       "  {'type': 'user',\n",
       "   'content': '昨天按照客服说放进米缸中一天后看看',\n",
       "   'sender': '15951750186',\n",
       "   'sentiment': '中立'},\n",
       "  {'type': 'user',\n",
       "   'content': '现在无法开机',\n",
       "   'sender': '15951750186',\n",
       "   'sentiment': '负向'},\n",
       "  {'type': 'agent',\n",
       "   'content': '您好，您可以通过点击以下链接，再点击售后服务申请，发起维修申请。 https://www.insta360.com/cn/support/workorder/repair_nav （在App端打开可能会出现填写卡顿的问题，您可以复制该网址至浏览器打开填写） *产品在保修期内出现非人为原因导致问题的情况，我们将提供免费维修服务。 *如已过保修期，具体的维修费用需要您先寄回产品，我们将根据具体检测结果提供维修报价，您可通过https://www.insta360.com/cn/support/workorder/repair_nav至【我的售后工单】进行查看维修价格和维修进度（一般需要5个工作日）。 *您发起维修申请后，选择上门取件服务后，顺丰会安排上门取件服务，上门取件将由我司先承担运费。',\n",
       "   'sender': '栋栋'},\n",
       "  {'type': 'agent', 'content': '辛苦寄回检测哦', 'sender': '栋栋'},\n",
       "  {'type': 'agent',\n",
       "   'content': '请问是否还有其他需要帮助到您的吗？目前查看到您暂时未回复，后续如果需要的话可以再次通过此对话框联系我们哦。',\n",
       "   'sender': '栋栋'}],\n",
       " 'origin_conversation': '系统: 有新的咨询进来了。\\n 栋栋: 您好，欢迎光临影石insta360~我是栋栋，请问有什么可以帮到您的吗？\\n 15951750186: X4误闯洗衣机，\\n 15951750186: 昨天按照客服说放进米缸中一天后看看\\n 15951750186: 现在无法开机\\n 栋栋: 您好，您可以通过点击以下链接，再点击售后服务申请，发起维修申请。\\n https://www.insta360.com/cn/support/workorder/repair_nav\\n （在App端打开可能会出现填写卡顿的问题，您可以复制该网址至浏览器打开填写）\\n \\n *产品在保修期内出现非人为原因导致问题的情况，我们将提供免费维修服务。\\n *如已过保修期，具体的维修费用需要您先寄回产品，我们将根据具体检测结果提供维修报价，您可通过https://www.insta360.com/cn/support/workorder/repair_nav至【我的售后工单】进行查看维修价格和维修进度（一般需要5个工作日）。\\n *您发起维修申请后，选择上门取件服务后，顺丰会安排上门取件服务，上门取件将由我司先承担运费。\\n 栋栋: 辛苦寄回检测哦\\n 栋栋: 请问是否还有其他需要帮助到您的吗？目前查看到您暂时未回复，后续如果需要的话可以再次通过此对话框联系我们哦。\\n \\n ',\n",
       " 'token_usage': 3091,\n",
       " 'id': '#4dfc6dde',\n",
       " 'time': '2025-03-10 18:26:22',\n",
       " 'conversationSummary': {'mainIssue': '客户的X4相机误闯洗衣机后无法开机。',\n",
       "  'resolutionStatus': {'status': '已解决',\n",
       "   'description': '客服引导客户发起维修申请并提供了相关网址和说明。'},\n",
       "  'mainSolution': '客服提供了维修申请的链接及说明，并提醒客户寄回检测。'},\n",
       " 'hotWords': ['X4', '洗衣机', '维修申请', '开机'],\n",
       " 'improvementSuggestions': ['提高客服对产品故障排查的说明细致度，提供更多步骤帮助客户。',\n",
       "  '在结束对话前主动确认客户是否有其他问题，确保充分满意。',\n",
       "  '在提供链接时，说明清楚若应用程序端出现问题的替代解决方案。',\n",
       "  '丰富FAQ及自助服务页面，方便客户快速查找相似问题的处理方法。'],\n",
       " 'metrics': {'satisfaction': {'value': 80},\n",
       "  'resolution': {'value': 70},\n",
       "  'attitude': {'value': 90},\n",
       "  'risk': {'value': 90}},\n",
       " 'summary': '客户询问了关于X4相机故障的问题，客服提供了维修申请的流程和相关信息。',\n",
       " 'tags': ['相机故障问题>开关机类不良', '产品使用咨询>功能使用'],\n",
       " 'times': '2025-03-10 18:26:22'}"
      ]
     },
     "execution_count": 6,
     "metadata": {},
     "output_type": "execute_result"
    }
   ],
   "source": [
    "conversations_collection.find_one()"
   ]
  },
  {
   "cell_type": "code",
   "execution_count": null,
   "metadata": {},
   "outputs": [],
   "source": []
  }
 ],
 "metadata": {
  "kernelspec": {
   "display_name": "base",
   "language": "python",
   "name": "python3"
  },
  "language_info": {
   "codemirror_mode": {
    "name": "ipython",
    "version": 3
   },
   "file_extension": ".py",
   "mimetype": "text/x-python",
   "name": "python",
   "nbconvert_exporter": "python",
   "pygments_lexer": "ipython3",
   "version": "3.11.7"
  }
 },
 "nbformat": 4,
 "nbformat_minor": 2
}
