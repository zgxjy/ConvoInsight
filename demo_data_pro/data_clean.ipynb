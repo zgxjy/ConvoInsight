{
 "cells": [
  {
   "cell_type": "markdown",
   "metadata": {},
   "source": [
    "# 一、数据清洗"
   ]
  },
  {
   "cell_type": "code",
   "execution_count": 1,
   "metadata": {},
   "outputs": [],
   "source": [
    "import pymongo\n",
    "# MongoDB连接配置\n",
    "mongo_client = pymongo.MongoClient(\"mongodb://localhost:27017/\")\n",
    "convoinsight_db = mongo_client[\"convoinsight-danghuan\"]\n",
    "conversations_collection = convoinsight_db[\"conversations\"]"
   ]
  },
  {
   "cell_type": "markdown",
   "metadata": {},
   "source": [
    "## 1. 清洗会话用户情感"
   ]
  },
  {
   "cell_type": "code",
   "execution_count": 5,
   "metadata": {},
   "outputs": [
    {
     "name": "stdout",
     "output_type": "stream",
     "text": [
      "Counter({'中立': 5730, '正向': 971, '负向': 882})\n"
     ]
    }
   ],
   "source": [
    "#查看用户会话的sentiments的所有情感类型值和频数\n",
    "# conversations_collection.find_one()\n",
    "# 查询所有用户消息\n",
    "from collections import Counter\n",
    "user_messages = conversations_collection.aggregate([\n",
    "    {\"$unwind\": \"$messages\"},\n",
    "    {\"$match\": {\"messages.type\": \"user\"}},\n",
    "    {\"$project\": {\"sentiment\": \"$messages.sentiment\"}}\n",
    "])\n",
    "\n",
    "# 提取情感并统计频数\n",
    "sentiments = [msg['sentiment'] for msg in user_messages if 'sentiment' in msg]\n",
    "sentiment_counts = Counter(sentiments)\n",
    "\n",
    "# 输出结果\n",
    "print(sentiment_counts)"
   ]
  },
  {
   "cell_type": "code",
   "execution_count": 3,
   "metadata": {},
   "outputs": [],
   "source": [
    "# 定义情感映射\n",
    "sentiment_mapping = {\n",
    "    '中立': '中立', 'neutral': '中立', 'Neutral': '中立', 'N/A': '中立', '': '中立',\n",
    "    '负向': '负向', 'negative': '负向', 'Negative': '负向', 'negaitve': '负向', '負向': '负向',\n",
    "    '正向': '正向', 'positive': '正向', 'Positive': '正向', '积极': '正向',\n",
    "    # 其他情感类型可以根据需要进行归类\n",
    "    'frustrated': '负向', 'concerned': '负向', 'disappointed': '负向',\n",
    "    'apologetic': '负向', 'confused': '中立', '请求': '中立', '要求': '中立',\n",
    "    'hopeful': '正向', '幽默': '中立', '疑惑': '中立', '疑问': '中立', 'affirmative': '正向'\n",
    "}\n",
    "\n",
    "# 更新数据库中的情感数据\n",
    "for message in conversations_collection.find({\"messages.type\": \"user\"}):\n",
    "    updated_messages = []\n",
    "    for msg in message['messages']:\n",
    "        if msg['type'] == 'user' and 'sentiment' in msg:\n",
    "            original_sentiment = msg['sentiment']\n",
    "            # 映射情感\n",
    "            msg['sentiment'] = sentiment_mapping.get(original_sentiment, '中立')\n",
    "        updated_messages.append(msg)\n",
    "    \n",
    "    # 更新数据库\n",
    "    conversations_collection.update_one(\n",
    "        {\"_id\": message[\"_id\"]},\n",
    "        {\"$set\": {\"messages\": updated_messages}}\n",
    "    )\n"
   ]
  },
  {
   "cell_type": "code",
   "execution_count": 4,
   "metadata": {},
   "outputs": [
    {
     "data": {
      "text/plain": [
       "{'_id': ObjectId('6879b5f5d9eab0e645a9c2bf'),\n",
       " 'agent': 'coco',\n",
       " 'customerInfo': {'userId': '0630-7992', 'device': '旧手机', 'history': '无'},\n",
       " 'interactionAnalysis': {'totalMessages': 5,\n",
       "  'agentMessages': 3,\n",
       "  'userMessages': 2},\n",
       " 'messages': [{'type': 'user',\n",
       "   'content': '我这个旧手机可以再贵一点吗',\n",
       "   'sender': '0630-7992',\n",
       "   'sentiment': '中立'},\n",
       "  {'type': 'agent',\n",
       "   'content': '您好呀！我是小当回收客服coco，很高兴能为您服务！',\n",
       "   'sender': 'coco',\n",
       "   'sentiment': None},\n",
       "  {'type': 'agent',\n",
       "   'content': '理解您的心情，二手手机行业与新机销售的市场类型不同，价格体系不同。',\n",
       "   'sender': 'coco',\n",
       "   'sentiment': None},\n",
       "  {'type': 'agent',\n",
       "   'content': '如果是已经提交了回收订单，辛苦提供回收订单号或者下单的手机号码，客服为您查询',\n",
       "   'sender': 'coco',\n",
       "   'sentiment': None}],\n",
       " 'origin_conversation': '江苏/连云港0630-7992 2025-06-30 19:57:33_x000D_\\n我这个旧手机可以再贵一点吗_x000D_\\n_x000D_\\ncoco 2025-06-30 19:57:42_x000D_\\n您好呀！我是小当回收客服coco，很高兴能为您服务！_x000D_\\n_x000D_\\ncoco 2025-06-30 19:57:49_x000D_\\n理解您的心情，二手手机行业与新机销售的市场类型不同，价格体系不同。_x000D_\\n_x000D_\\ncoco 2025-06-30 19:58:01_x000D_\\n如果是已经提交了回收订单，辛苦提供回收订单号或者下单的手机号码，客服为您查询_x000D_\\n_x000D_\\n',\n",
       " 'token_usage': 2023,\n",
       " 'id': '#001',\n",
       " 'time': '2025-07-18 10:49:28',\n",
       " 'conversationSummary': {'mainIssue': '客户想知道旧手机是否可以获得更高的回收价格。',\n",
       "  'resolutionStatus': {'status': '部分解决',\n",
       "   'description': '客服解释了二手手机价格体系及查询要求，未能确认具体的回收价格。'},\n",
       "  'mainSolution': '客服引导客户提供订单号或手机号码进行查询。'},\n",
       " 'hotWords': ['旧手机', '回收价格', '二手手机'],\n",
       " 'improvementSuggestions': ['针对二手手机的回收价格提供更多具体信息，减少客户不确定感。',\n",
       "  '在对话中主动询问客户是否有订单号，减少客户再次提问的机会。',\n",
       "  '增强客服对市场行情的理解，以便更好解答价格相关的问题。'],\n",
       " 'metrics': {'satisfaction': {'value': 75},\n",
       "  'resolution': {'value': 60},\n",
       "  'attitude': {'value': 85},\n",
       "  'security': {'value': 90}},\n",
       " 'summary': '客户询问旧手机是否可以更高回收价，客服提供了相关建议。',\n",
       " 'tags': ['手机回收', '二手手机', '客服咨询'],\n",
       " 'times': '2025-07-18 10:49:28'}"
      ]
     },
     "execution_count": 4,
     "metadata": {},
     "output_type": "execute_result"
    }
   ],
   "source": [
    "conversations_collection.find_one()"
   ]
  },
  {
   "cell_type": "code",
   "execution_count": null,
   "metadata": {},
   "outputs": [],
   "source": []
  }
 ],
 "metadata": {
  "kernelspec": {
   "display_name": "base",
   "language": "python",
   "name": "python3"
  },
  "language_info": {
   "codemirror_mode": {
    "name": "ipython",
    "version": 3
   },
   "file_extension": ".py",
   "mimetype": "text/x-python",
   "name": "python",
   "nbconvert_exporter": "python",
   "pygments_lexer": "ipython3",
   "version": "3.11.7"
  }
 },
 "nbformat": 4,
 "nbformat_minor": 2
}
