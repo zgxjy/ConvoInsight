{
 "cells": [
  {
   "cell_type": "markdown",
   "metadata": {
    "vscode": {
     "languageId": "plaintext"
    }
   },
   "source": [
    "# 会话数据清洗及分析\n",
    "* 参考示例数据结构"
   ]
  },
  {
   "cell_type": "markdown",
   "metadata": {},
   "source": [
    "## 1.准备数据"
   ]
  },
  {
   "cell_type": "code",
   "execution_count": 1,
   "metadata": {},
   "outputs": [],
   "source": [
    "import pymongo\n",
    "# MongoDB连接配置\n",
    "mongo_client = pymongo.MongoClient(\"mongodb://localhost:27017/\")\n",
    "convoinsight_db = mongo_client[\"convoinsight\"]\n",
    "conversations_collection = convoinsight_db[\"conversations\"]"
   ]
  },
  {
   "cell_type": "code",
   "execution_count": 2,
   "metadata": {},
   "outputs": [],
   "source": [
    "import pandas as pd\n",
    "data = pd.read_excel(\"./体验家-用户原声-new.xlsx\")"
   ]
  },
  {
   "cell_type": "code",
   "execution_count": 3,
   "metadata": {},
   "outputs": [
    {
     "data": {
      "text/html": [
       "<div>\n",
       "<style scoped>\n",
       "    .dataframe tbody tr th:only-of-type {\n",
       "        vertical-align: middle;\n",
       "    }\n",
       "\n",
       "    .dataframe tbody tr th {\n",
       "        vertical-align: top;\n",
       "    }\n",
       "\n",
       "    .dataframe thead th {\n",
       "        text-align: right;\n",
       "    }\n",
       "</style>\n",
       "<table border=\"1\" class=\"dataframe\">\n",
       "  <thead>\n",
       "    <tr style=\"text-align: right;\">\n",
       "      <th></th>\n",
       "      <th>会话内容</th>\n",
       "    </tr>\n",
       "  </thead>\n",
       "  <tbody>\n",
       "    <tr>\n",
       "      <th>0</th>\n",
       "      <td>系统: 有新的咨询进来了。\\n 沐沐: 您好，欢迎光临影石insta360~我是沐沐，请问有...</td>\n",
       "    </tr>\n",
       "    <tr>\n",
       "      <th>1</th>\n",
       "      <td>系统: 有新的咨询进来了。\\n 金鱼: 您好，感谢您联系影石Insta360，我是金鱼，很高...</td>\n",
       "    </tr>\n",
       "    <tr>\n",
       "      <th>2</th>\n",
       "      <td>系统: 有新的咨询进来了。\\n 树叶: 您好，欢迎光临影石insta360~我是树叶，请问有...</td>\n",
       "    </tr>\n",
       "    <tr>\n",
       "      <th>3</th>\n",
       "      <td>系统: 有新的咨询进来了。\\n 柚子: 您好，感谢您联系影石Insta360，我是柚子，很高...</td>\n",
       "    </tr>\n",
       "    <tr>\n",
       "      <th>4</th>\n",
       "      <td>系统: 有新的咨询进来了。\\n 15219877537: 手机没办法升级固件怎么办\\n 糖米...</td>\n",
       "    </tr>\n",
       "  </tbody>\n",
       "</table>\n",
       "</div>"
      ],
      "text/plain": [
       "                                                会话内容\n",
       "0  系统: 有新的咨询进来了。\\n 沐沐: 您好，欢迎光临影石insta360~我是沐沐，请问有...\n",
       "1  系统: 有新的咨询进来了。\\n 金鱼: 您好，感谢您联系影石Insta360，我是金鱼，很高...\n",
       "2  系统: 有新的咨询进来了。\\n 树叶: 您好，欢迎光临影石insta360~我是树叶，请问有...\n",
       "3  系统: 有新的咨询进来了。\\n 柚子: 您好，感谢您联系影石Insta360，我是柚子，很高...\n",
       "4  系统: 有新的咨询进来了。\\n 15219877537: 手机没办法升级固件怎么办\\n 糖米..."
      ]
     },
     "execution_count": 3,
     "metadata": {},
     "output_type": "execute_result"
    }
   ],
   "source": [
    "data.head()"
   ]
  },
  {
   "cell_type": "code",
   "execution_count": 4,
   "metadata": {},
   "outputs": [
    {
     "data": {
      "text/plain": [
       "'系统: 有新的咨询进来了。\\n 沐沐: 您好，欢迎光临影石insta360~我是沐沐，请问有什么可以帮到您的吗？\\n 15737314172: 安卓手机连接云台吗\\n 沐沐: 请问您的手机型号是什么呢\\n 15737314172: 荣耀pro\\n 15737314172: 荣耀100pro\\n 沐沐: 沐沐帮您查看一下，请您稍等下。\\n 沐沐: 感谢您的耐心等待，您可以点此链接查看已经测试过可以连接云台并且能够使用功能的机型。\\n 值得说明的是，由于安卓/iOS机型众多，以上兼容列表只是包含我们实测过的机型。对列表以外手机，一般只要能安装APP都可以使用，但可能由于性能原因个别功能会有限制，如4K录像、美颜等，球形全景等。感谢您的理解～ \\n 温馨提示：除了手机系统需要兼容外，Flow/Flow Pro对手机的尺寸和重量也会有一定的要求哦，适配手机厚度：6.9~10mm；适配手机宽度：64~84mm；适配手机重量：＜300克。\\n 沐沐: https://s2-cs-pub-std.kefutoutiao.com/doc/im/tid16480/Flow_Pro兼容性列表1735539287761.pdf\\n 15737314172: https://s2-cs-pub-std.kefutoutiao.com/chat_upload/tid16480/1000043380_1735539423_1735539423379_e54a0c.jpg?OSSAccessKeyId=LTAI5tERQ5hZtMsgME6Q1Uap&Expires=1735568256&Signature=zFOL8W99%2FXL%2FUUzYNxUi6y3UHwA%3D\\n 15737314172: 荣耀只有这两个可以吗\\n '"
      ]
     },
     "execution_count": 4,
     "metadata": {},
     "output_type": "execute_result"
    }
   ],
   "source": [
    "data['会话内容'][0]"
   ]
  },
  {
   "cell_type": "markdown",
   "metadata": {},
   "source": [
    "## 2. 调用代理"
   ]
  },
  {
   "cell_type": "code",
   "execution_count": 5,
   "metadata": {},
   "outputs": [],
   "source": [
    "import os\n",
    "# Set the proxy URL and port\n",
    "proxy_url = 'http://127.0.0.1'\n",
    "proxy_port = \"3566\" # !!!please replace it with your own port\n",
    "\n",
    "# Set the http_proxy and https_proxy environment variables\n",
    "os.environ['http_proxy'] = f'{proxy_url}:{proxy_port}'\n",
    "os.environ['https_proxy'] = f'{proxy_url}:{proxy_port}'"
   ]
  },
  {
   "cell_type": "markdown",
   "metadata": {},
   "source": [
    "## 3. 单条数据:抽取会话内容的基础信息"
   ]
  },
  {
   "cell_type": "code",
   "execution_count": 26,
   "metadata": {},
   "outputs": [],
   "source": [
    "def system_prompt_for_info_extraction():\n",
    "    prompt = \"\"\"请将以下客服会话数据转换成结构化的JSON格式。根据对话内容提取相关信息，并按照以下结构组织：\n",
    "\n",
    "1. 生成唯一会话ID（如果原始数据中没有明确ID，可使用时间戳或随机字符串）\n",
    "2. 确定客服人员姓名\n",
    "3. 提取客户信息（手机号或用户ID）\n",
    "4. 分析互动情况（总消息数、客服消息数、客户消息数）\n",
    "5. 按顺序整理所有消息，包括:\n",
    "   - 消息类型（系统/客服/客户）\n",
    "   - 消息内容\n",
    "   - 发送者\n",
    "   - 对客户消息添加情感分析（正向/中立/负向）\n",
    "\n",
    "请使用以下JSON结构：\n",
    "\n",
    "{\n",
    "  \"agent\": \"客服姓名\",\n",
    "  \"customerInfo\": {\n",
    "    \"userId\": \"客户ID或手机号\",\n",
    "    \"device\": \"相关设备信息（如有）\",\n",
    "    \"history\": \"客户历史信息（如有）\"\n",
    "  },\n",
    "  \"interactionAnalysis\": {\n",
    "    \"totalMessages\": 消息总数,\n",
    "    \"agentMessages\": 客服消息数,\n",
    "    \"userMessages\": 客户消息数\n",
    "  },\n",
    "  \"messages\": [\n",
    "    {\n",
    "      \"type\": \"消息类型（system/agent/user）\",\n",
    "      \"content\": \"消息内容\",\n",
    "      \"sender\": \"发送者名称/ID\",\n",
    "      \"sentiment\": \"情感分析（仅用户消息需要）\"\n",
    "    },\n",
    "    // 更多消息...\n",
    "  ]\n",
    "}    \n",
    "    \"\"\"\n",
    "    return prompt\n",
    "\n",
    "def user_prompt_for_info_extraction(conversations_string):\n",
    "    prompt = \"\"\"# 原始会话数据：\n",
    "{conversations_string}\n",
    "请根据上述要求将原始会话数据转换为结构化的JSON格式。\n",
    "    \"\"\".format(conversations_string = conversations_string)\n",
    "    return prompt"
   ]
  },
  {
   "cell_type": "code",
   "execution_count": 27,
   "metadata": {},
   "outputs": [
    {
     "name": "stdout",
     "output_type": "stream",
     "text": [
      "# 原始会话数据：\n",
      "test\n",
      "请根据上述要求将原始会话数据转换为结构化的JSON格式。\n",
      "    \n"
     ]
    }
   ],
   "source": [
    "print(user_prompt_for_info_extraction(\"test\"))"
   ]
  },
  {
   "cell_type": "code",
   "execution_count": 28,
   "metadata": {},
   "outputs": [],
   "source": [
    "from openai import OpenAI\n",
    "import os\n",
    "# client = OpenAI(api_key=os.getenv('DEEPSEEK_API_KEY'), base_url=\"https://api.deepseek.com\")\n",
    "client = OpenAI(api_key=os.getenv('OPEN_AI_KEY'))\n",
    "model_name = \"gpt-4o-mini\""
   ]
  },
  {
   "cell_type": "code",
   "execution_count": 29,
   "metadata": {},
   "outputs": [],
   "source": [
    "import uuid\n",
    "from datetime import datetime\n",
    "def custom_length_uuid(length=8):\n",
    "    \"\"\"Generate a UUID of custom length (minimum recommended: 8)\"\"\"\n",
    "    # Generate a random UUID and remove hyphens\n",
    "    u = str(uuid.uuid4()).replace('-', '')\n",
    "    # Return a substring of the desired length\n",
    "    return \"#\"+u[:length]\n"
   ]
  },
  {
   "cell_type": "code",
   "execution_count": 30,
   "metadata": {},
   "outputs": [
    {
     "data": {
      "text/plain": [
       "'#4966b00d'"
      ]
     },
     "execution_count": 30,
     "metadata": {},
     "output_type": "execute_result"
    }
   ],
   "source": [
    "custom_length_uuid()"
   ]
  },
  {
   "cell_type": "code",
   "execution_count": 31,
   "metadata": {},
   "outputs": [],
   "source": [
    "import json\n",
    "def process_single_conversation_extract(conversation:str,conversation_id:str,test_mode:bool,model=\"gpt-4o-mini\"):\n",
    "    \"\"\"\n",
    "    处理单条评论数据。\n",
    "\n",
    "    参数:\n",
    "        conversation: 客服会话对话信息\n",
    "        test_mode: 是否为测试模式,布尔类型\n",
    "        model:处理模型版本\n",
    "\n",
    "    返回:\n",
    "        Dict[str, Any]: 处理结果字典\n",
    "    \"\"\"\n",
    "    \n",
    "    try:\n",
    "        # 准备提示文本\n",
    "        system_prompt = system_prompt_for_info_extraction()\n",
    "        user_prompt = user_prompt_for_info_extraction(conversations_string = conversation)\n",
    "\n",
    "        # 调用模型获取结果\n",
    "        response = client.chat.completions.create(\n",
    "            model = model,\n",
    "            messages=[\n",
    "                {\"role\": \"system\", \"content\": system_prompt},\n",
    "                {\"role\": \"user\", \"content\": user_prompt },\n",
    "            ],\n",
    "            stream=False,\n",
    "                response_format={\n",
    "                'type': 'json_object'\n",
    "            }\n",
    "        )\n",
    "\n",
    "        # 获取 token 消耗数量\n",
    "        token_usage = response.usage.total_tokens if hasattr(response, 'usage') else None\n",
    "\n",
    "        try:\n",
    "            content = response.choices[0].message.content\n",
    "            parsed_content = json.loads(content)  # 解析内容\n",
    "            # print(parsed_content)\n",
    "            result_doc = parsed_content\n",
    "            result_doc['origin_conversation'] = conversation\n",
    "            result_doc['token_usage'] = token_usage\n",
    "            result_doc['id'] = conversation_id\n",
    "            result_doc['time'] = datetime.now().strftime(\"%Y-%m-%d %H:%M:%S\")\n",
    "        except json.JSONDecodeError as e:\n",
    "            print(f\"JSON 解析失败: {e}\")\n",
    "        except AttributeError as e:\n",
    "            print(f\"属性访问失败: {e}\")\n",
    "        except Exception as e:\n",
    "            print(f\"处理过程中发生错误: {e}\")\n",
    "        \n",
    "        if test_mode:\n",
    "            return result_doc\n",
    "        else:\n",
    "            conversations_collection.insert_one(result_doc)\n",
    "            print(f\"已插入一条数据到conversations集合\")\n",
    "            return result_doc\n",
    "\n",
    "    except Exception as e:\n",
    "        # 记录错误信息\n",
    "        result_doc = {\n",
    "            'error': str(e),\n",
    "            \"id\":conversation_id,\n",
    "            'processed_at': datetime.now().strftime(\"%Y-%m-%d %H:%M:%S\"),\n",
    "            'status': 'failed',\n",
    "            \"model\": model,\n",
    "        }\n",
    "        return result_doc"
   ]
  },
  {
   "cell_type": "code",
   "execution_count": 32,
   "metadata": {},
   "outputs": [
    {
     "name": "stdout",
     "output_type": "stream",
     "text": [
      "已插入一条数据到conversations集合\n"
     ]
    }
   ],
   "source": [
    "response = process_single_conversation_extract(conversation=data['会话内容'][1],conversation_id=\"#001\",test_mode=False)"
   ]
  },
  {
   "cell_type": "code",
   "execution_count": 33,
   "metadata": {},
   "outputs": [
    {
     "data": {
      "text/plain": [
       "{'agent': '金鱼',\n",
       " 'customerInfo': {'userId': '18090636943', 'device': '未知', 'history': '无'},\n",
       " 'interactionAnalysis': {'totalMessages': 9,\n",
       "  'agentMessages': 5,\n",
       "  'userMessages': 4},\n",
       " 'messages': [{'type': 'system', 'content': '有新的咨询进来了。', 'sender': '系统'},\n",
       "  {'type': 'agent',\n",
       "   'content': '您好，感谢您联系影石Insta360，我是金鱼，很高兴为您服务！',\n",
       "   'sender': '金鱼'},\n",
       "  {'type': 'user',\n",
       "   'content': '你好为什么我的acepro拍视频会闪烁啊',\n",
       "   'sender': '18090636943',\n",
       "   'sentiment': '负向'},\n",
       "  {'type': 'agent', 'content': '请问您指的闪烁是屏幕闪烁，还是其他的呢', 'sender': '金鱼'},\n",
       "  {'type': 'user',\n",
       "   'content': '录出来的视频',\n",
       "   'sender': '18090636943',\n",
       "   'sentiment': '中立'},\n",
       "  {'type': 'user',\n",
       "   'content': '摇晃的时候灯光录出来是闪烁的',\n",
       "   'sender': '18090636943',\n",
       "   'sentiment': '负向'},\n",
       "  {'type': 'agent',\n",
       "   'content': '您好，感谢您的反馈！当相机开启“暗光增稳”时，为了减少运动模糊，相机会自动提高快门速度，抗闪烁功能也会随之失效。由于相机快门速度与电视、电脑或其他LED光源的刷新频率不一致，画面便会出现频闪。 如您在非夜间运动场景下拍摄，我们建议您可以关闭该功能，并根据环境灯光闪烁频率调整抗闪烁设置，可以改善频闪现象。',\n",
       "   'sender': '金鱼'},\n",
       "  {'type': 'user',\n",
       "   'content': '哦哦',\n",
       "   'sender': '18090636943',\n",
       "   'sentiment': '中立'},\n",
       "  {'type': 'user',\n",
       "   'content': '谢谢',\n",
       "   'sender': '18090636943',\n",
       "   'sentiment': '正向'},\n",
       "  {'type': 'agent', 'content': '嗯嗯，请问还有其他问题可以帮助到您的吗？', 'sender': '金鱼'},\n",
       "  {'type': 'agent', 'content': '客服金鱼发送满意度调查', 'sender': '金鱼'},\n",
       "  {'type': 'system', 'content': '客户评价为是,非常满意', 'sender': '系统'}],\n",
       " 'origin_conversation': '系统: 有新的咨询进来了。\\n 金鱼: 您好，感谢您联系影石Insta360，我是金鱼，很高兴为您服务！\\n 18090636943: 你好为什么我的acepro拍视频会闪烁啊\\n 金鱼: 请问您指的闪烁是屏幕闪烁，还是其他的呢\\n 18090636943: 录出来的视频\\n 18090636943: 摇晃的时候灯光录出来是闪烁的\\n 金鱼: 您好，感谢您的反馈！\\n 当相机开启“暗光增稳”时，为了减少运动模糊，相机会自动提高快门速度，抗闪烁功能也会随之失效。由于相机快门速度与电视、电脑或其他LED光源的刷新频率不一致，画面便会出现频闪。\\n 如您在非夜间运动场景下拍摄，我们建议您可以关闭该功能，并根据环境灯光闪烁频率调整抗闪烁设置，可以改善频闪现象。\\n 18090636943: 哦哦\\n 18090636943: 谢谢\\n 金鱼: 嗯嗯，请问还有其他问题可以帮助到您的吗？\\n 金鱼: 客服金鱼发送满意度调查\\n 系统: 客户评价为是,非常满意\\n ',\n",
       " 'token_usage': 1299,\n",
       " 'id': '#001',\n",
       " 'time': '2025-03-10 17:57:37',\n",
       " '_id': ObjectId('67ceb791b6cb42d2b375e452')}"
      ]
     },
     "execution_count": 33,
     "metadata": {},
     "output_type": "execute_result"
    }
   ],
   "source": [
    "response"
   ]
  },
  {
   "cell_type": "markdown",
   "metadata": {},
   "source": [
    "## 4. 单条数据：抽取会话内容的诊断信息"
   ]
  },
  {
   "cell_type": "code",
   "execution_count": 15,
   "metadata": {},
   "outputs": [],
   "source": [
    "def system_prompt_for_info_update():\n",
    "    prompt = \"\"\"# 客服对话结构化分析\n",
    "你是一个有着十年专业经验的客服总监，现在需要基于客户对话进行会话内容的分析和诊断\n",
    "## 任务描述\n",
    "分析以下客服与客户的对话内容，将其转化为结构化数据，包括:\n",
    "1. 客户满意度、问题解决程度、客服态度和安全风险评估等关键指标\n",
    "2. 对话摘要和主要问题识别\n",
    "3. 问题解决情况及解决方案\n",
    "4. 相关标签和关键词提取\n",
    "5. 客服改进建议\n",
    "\n",
    "## 分析指南\n",
    "1. **对话指标评估**:\n",
    "   - 客户满意度(0-100): 根据客户回应的积极程度、问题解决情况评估\n",
    "   - 问题解决程度(0-100): 根据客户问题是否得到全面解答评估\n",
    "   - 客服态度(0-100): 根据客服回应的礼貌度、专业性、响应速度评估\n",
    "   - 风险评估(0-100): 分析对话中可能存在的安全隐患，数值越高代表越安全\n",
    "2. **对话摘要**:\n",
    "   - 提取对话的主要主题和要点，用1-2句话概括\n",
    "3. **对话详细分析**:\n",
    "   - 识别客户的主要问题\n",
    "   - 确定问题解决状态(已解决/部分解决/未解决/无法解决)\n",
    "   - 概括客服提供的解决方案\n",
    "4. **标签和关键词**:\n",
    "   - 标签：根据对话内容提取最匹配的相关标签\n",
    "   - 关键词：识别客户对话中出现的热门词汇或产品名称\n",
    "5. **改进建议**:\n",
    "   - 根据对话分析，提供2-4条客服可以改进的具体建议\n",
    "\n",
    "## 输出格式\n",
    "请按以下JSON格式输出分析结果:\n",
    "\n",
    "```json\n",
    "{\n",
    "  \"metrics\": {\n",
    "    \"satisfaction\": { \"value\": 0-100 },\n",
    "    \"resolution\": { \"value\": 0-100 },\n",
    "    \"attitude\": { \"value\": 0-100 },\n",
    "    \"risk\": { \"value\": 0-100 }\n",
    "  },\n",
    "  \"summary\": \"一句话总结对话内容\",\n",
    "  \"conversationSummary\": {\n",
    "    \"mainIssue\": \"客户主要问题\",\n",
    "    \"resolutionStatus\": {\n",
    "      \"status\": \"已解决/部分解决/未解决/无法解决\",\n",
    "      \"description\": \"解决方案描述\"\n",
    "    },\n",
    "    \"mainSolution\": \"客服提供的主要解决方案\"\n",
    "  },\n",
    "  \"tags\": [\"标签1\"],\n",
    "  \"improvementSuggestions\": [\n",
    "    \"改进建议1\",\n",
    "    \"改进建议2\",\n",
    "    \"改进建议3\"\n",
    "  ],\n",
    "  \"hotWords\": [\"关键词1\", \"关键词2\", \"关键词3\"]\n",
    "}\n",
    "```\n",
    "## 特别注意事项\n",
    "1. 所有评分必须基于客观事实，避免主观臆断\n",
    "2. 标签应精准反映对话主题和产品类别\n",
    "3. 改进建议应具体、可操作且有建设性\n",
    "4. 如对话未明确表明某信息，应做合理推断并注明\n",
    "    \"\"\"\n",
    "    return prompt\n",
    "\n",
    "def user_prompt_for_info_update(conversations_string,tags_list_string):\n",
    "    prompt = \"\"\"# 原始会话数据：\n",
    "{conversations_string}\n",
    "请根据上述要求将原始会话数据转换为结构化的JSON格式。\n",
    "# 标签的识别请从以下标签进行选择\n",
    "{tags_list_string}\n",
    "    \"\"\".format(conversations_string = conversations_string,tags_list_string=tags_list_string)\n",
    "    return prompt"
   ]
  },
  {
   "cell_type": "code",
   "execution_count": 16,
   "metadata": {},
   "outputs": [],
   "source": [
    "problem_tags_list = \"\"\"产品使用咨询>功能使用\n",
    "产品使用咨询>相机操作咨询\n",
    "产品使用咨询>Insta360 APP咨询\n",
    "产品使用咨询>Studio 咨询\n",
    "产品使用咨询>教程需求咨询\n",
    "产品使用咨询>配件使用\n",
    "产品使用咨询>云服务使用咨询\n",
    "产品使用咨询>Connect使用咨询\n",
    "产品使用咨询>其他产品使用咨询\n",
    "相机故障问题>镜头外观不良\n",
    "相机故障问题>镜头功能类不良\n",
    "相机故障问题>屏外观不良\n",
    "相机故障问题>屏功能不良\n",
    "相机故障问题>按键外观/功能不良\n",
    "相机故障问题>电池外观(功能)不良\n",
    "相机故障问题>USB盖/喇叭盖/其他盖子损坏\n",
    "相机故障问题>机身外观不良\n",
    "相机故障问题>进液\n",
    "相机故障问题>充电类不良\n",
    "相机故障问题>发热\n",
    "相机故障问题>拼接类不良\n",
    "相机故障问题>Wifi连接类不良\n",
    "相机故障问题>蓝牙连接不良\n",
    "相机故障问题>有线连接类不良\n",
    "相机故障问题>声音类不良\n",
    "相机故障问题>图像类不良（预览&成片）\n",
    "相机故障问题>防抖类异常\n",
    "相机故障问题>死机\n",
    "相机故障问题>开关机类不良\n",
    "相机故障问题>升级异常\n",
    "相机故障问题>续航异常\n",
    "相机故障问题>相机录制异常/停止录像\n",
    "相机故障问题>相机文件异常\n",
    "相机故障问题>内存卡相关异常\n",
    "相机故障问题>直播异常-专业级\n",
    "相机故障问题>其他故障\n",
    "\"\"\""
   ]
  },
  {
   "cell_type": "code",
   "execution_count": 68,
   "metadata": {},
   "outputs": [],
   "source": [
    "def validate_data_structure(data):\n",
    "    \"\"\"验证数据结构是否符合预期\"\"\"\n",
    "    required_keys = {\n",
    "        \"metrics\": dict,\n",
    "        \"summary\": str,\n",
    "        \"conversationSummary\": dict,\n",
    "        \"tags\": list,\n",
    "        \"improvementSuggestions\": list,\n",
    "        \"hotWords\": list\n",
    "    }\n",
    "    \n",
    "    for key, expected_type in required_keys.items():\n",
    "        if key not in data or not isinstance(data[key], expected_type):\n",
    "            return False\n",
    "    \n",
    "    # 进一步验证嵌套结构\n",
    "    metrics_keys = {\"satisfaction\", \"resolution\", \"attitude\", \"risk\"}\n",
    "    if not all(k in data[\"metrics\"] for k in metrics_keys):\n",
    "        return False\n",
    "    \n",
    "    conversation_summary_keys = {\"mainIssue\", \"resolutionStatus\", \"mainSolution\"}\n",
    "    if not all(k in data[\"conversationSummary\"] for k in conversation_summary_keys):\n",
    "        return False\n",
    "    \n",
    "    resolution_status_keys = {\"status\", \"description\"}\n",
    "    if not all(k in data[\"conversationSummary\"][\"resolutionStatus\"] for k in resolution_status_keys):\n",
    "        return False\n",
    "    \n",
    "    return True\n",
    "\n",
    "def update_conversation(conversation_id, new_data):\n",
    "    # 验证数据结构\n",
    "    if not validate_data_structure(new_data):\n",
    "        print(\"数据结构不符合预期，更新操作已取消。\")\n",
    "        return None\n",
    "    \n",
    "    # 查找现有文档\n",
    "    existing_doc = conversations_collection.find_one({'id': conversation_id})\n",
    "    \n",
    "    # 准备更新数据\n",
    "    update_data = new_data.copy()\n",
    "    \n",
    "    if existing_doc:\n",
    "        # 更新时间为最新时间\n",
    "        update_data['times'] = new_data.get('time', existing_doc.get('time'))\n",
    "        # 合并 token_usage\n",
    "        if 'token_usage' in new_data and 'token_usage' in existing_doc:\n",
    "            update_data['token_usage'] = existing_doc['token_usage'] + new_data['token_usage']\n",
    "\n",
    "        # 合并其他字段，保留现有字段，添加新字段\n",
    "        for key in existing_doc:\n",
    "            if key not in update_data and key != '_id':\n",
    "                update_data[key] = existing_doc[key]\n",
    "    \n",
    "    # 执行更新操作\n",
    "    result = conversations_collection.update_one(\n",
    "        {'id': conversation_id},\n",
    "        {'$set': update_data},\n",
    "        upsert=True  # 如果文档不存在，则创建新文档\n",
    "    )\n",
    "    print(f\"已更新一条数据到conversations集合\")\n",
    "    return result"
   ]
  },
  {
   "cell_type": "code",
   "execution_count": 69,
   "metadata": {},
   "outputs": [],
   "source": [
    "def process_single_conversation_update(conversation:str,conversation_id:str,test_mode:bool,model=\"gpt-4o-mini\"):\n",
    "    \"\"\"\n",
    "    处理单条评论数据。\n",
    "\n",
    "    参数:\n",
    "        conversation: 客服会话对话信息\n",
    "        test_mode: 是否为测试模式,布尔类型\n",
    "        model:处理模型版本\n",
    "\n",
    "    返回:\n",
    "        Dict[str, Any]: 处理结果字典\n",
    "    \"\"\"\n",
    "    \n",
    "    try:\n",
    "        # 准备提示文本\n",
    "        system_prompt = system_prompt_for_info_update()\n",
    "        user_prompt = user_prompt_for_info_update(conversations_string = conversation,tags_list_string = problem_tags_list)\n",
    "\n",
    "        # 调用模型获取结果\n",
    "        response = client.chat.completions.create(\n",
    "            model = model,\n",
    "            messages=[\n",
    "                {\"role\": \"system\", \"content\": system_prompt},\n",
    "                {\"role\": \"user\", \"content\": user_prompt },\n",
    "            ],\n",
    "            stream=False,\n",
    "                response_format={\n",
    "                'type': 'json_object'\n",
    "            }\n",
    "        )\n",
    "\n",
    "        # 获取 token 消耗数量\n",
    "        token_usage = response.usage.total_tokens if hasattr(response, 'usage') else None\n",
    "\n",
    "        try:\n",
    "            content = response.choices[0].message.content\n",
    "            parsed_content = json.loads(content)  # 解析内容\n",
    "            # print(parsed_content)\n",
    "            result_doc = parsed_content\n",
    "            result_doc['token_usage'] = token_usage\n",
    "            result_doc['time'] = datetime.now().strftime(\"%Y-%m-%d %H:%M:%S\")\n",
    "        except json.JSONDecodeError as e:\n",
    "            print(f\"JSON 解析失败: {e}\")\n",
    "        except AttributeError as e:\n",
    "            print(f\"属性访问失败: {e}\")\n",
    "        except Exception as e:\n",
    "            print(f\"处理过程中发生错误: {e}\")\n",
    "        \n",
    "        if test_mode:\n",
    "            return result_doc\n",
    "        else:\n",
    "            # 更新原始数据\n",
    "            update_conversation(conversation_id, result_doc)\n",
    "            return result_doc\n",
    "\n",
    "    except Exception as e:\n",
    "        # 记录错误信息\n",
    "        result_doc = {\n",
    "            'error': str(e),\n",
    "            \"conversation\":conversation,\n",
    "            'processed_at': datetime.now().strftime(\"%Y-%m-%d %H:%M:%S\"),\n",
    "            'status': 'failed',\n",
    "            \"model\": model,\n",
    "        }\n",
    "        return result_doc"
   ]
  },
  {
   "cell_type": "code",
   "execution_count": 82,
   "metadata": {},
   "outputs": [],
   "source": [
    "test = conversations_collection.find_one()"
   ]
  },
  {
   "cell_type": "code",
   "execution_count": 83,
   "metadata": {},
   "outputs": [
    {
     "data": {
      "text/plain": [
       "{'_id': ObjectId('67ceba7fb6cb42d2b375e45d'),\n",
       " 'agent': '栋栋',\n",
       " 'customerInfo': {'userId': '15951750186', 'device': None, 'history': None},\n",
       " 'interactionAnalysis': {'totalMessages': 6,\n",
       "  'agentMessages': 4,\n",
       "  'userMessages': 3},\n",
       " 'messages': [{'type': 'system', 'content': '有新的咨询进来了。', 'sender': '系统'},\n",
       "  {'type': 'agent',\n",
       "   'content': '您好，欢迎光临影石insta360~我是栋栋，请问有什么可以帮到您的吗？',\n",
       "   'sender': '栋栋'},\n",
       "  {'type': 'user',\n",
       "   'content': 'X4误闯洗衣机，',\n",
       "   'sender': '15951750186',\n",
       "   'sentiment': '中立'},\n",
       "  {'type': 'user',\n",
       "   'content': '昨天按照客服说放进米缸中一天后看看',\n",
       "   'sender': '15951750186',\n",
       "   'sentiment': '中立'},\n",
       "  {'type': 'user',\n",
       "   'content': '现在无法开机',\n",
       "   'sender': '15951750186',\n",
       "   'sentiment': '负向'},\n",
       "  {'type': 'agent',\n",
       "   'content': '您好，您可以通过点击以下链接，再点击售后服务申请，发起维修申请。 https://www.insta360.com/cn/support/workorder/repair_nav （在App端打开可能会出现填写卡顿的问题，您可以复制该网址至浏览器打开填写） *产品在保修期内出现非人为原因导致问题的情况，我们将提供免费维修服务。 *如已过保修期，具体的维修费用需要您先寄回产品，我们将根据具体检测结果提供维修报价，您可通过https://www.insta360.com/cn/support/workorder/repair_nav至【我的售后工单】进行查看维修价格和维修进度（一般需要5个工作日）。 *您发起维修申请后，选择上门取件服务后，顺丰会安排上门取件服务，上门取件将由我司先承担运费。',\n",
       "   'sender': '栋栋'},\n",
       "  {'type': 'agent', 'content': '辛苦寄回检测哦', 'sender': '栋栋'},\n",
       "  {'type': 'agent',\n",
       "   'content': '请问是否还有其他需要帮助到您的吗？目前查看到您暂时未回复，后续如果需要的话可以再次通过此对话框联系我们哦。',\n",
       "   'sender': '栋栋'}],\n",
       " 'origin_conversation': '系统: 有新的咨询进来了。\\n 栋栋: 您好，欢迎光临影石insta360~我是栋栋，请问有什么可以帮到您的吗？\\n 15951750186: X4误闯洗衣机，\\n 15951750186: 昨天按照客服说放进米缸中一天后看看\\n 15951750186: 现在无法开机\\n 栋栋: 您好，您可以通过点击以下链接，再点击售后服务申请，发起维修申请。\\n https://www.insta360.com/cn/support/workorder/repair_nav\\n （在App端打开可能会出现填写卡顿的问题，您可以复制该网址至浏览器打开填写）\\n \\n *产品在保修期内出现非人为原因导致问题的情况，我们将提供免费维修服务。\\n *如已过保修期，具体的维修费用需要您先寄回产品，我们将根据具体检测结果提供维修报价，您可通过https://www.insta360.com/cn/support/workorder/repair_nav至【我的售后工单】进行查看维修价格和维修进度（一般需要5个工作日）。\\n *您发起维修申请后，选择上门取件服务后，顺丰会安排上门取件服务，上门取件将由我司先承担运费。\\n 栋栋: 辛苦寄回检测哦\\n 栋栋: 请问是否还有其他需要帮助到您的吗？目前查看到您暂时未回复，后续如果需要的话可以再次通过此对话框联系我们哦。\\n \\n ',\n",
       " 'token_usage': 3091,\n",
       " 'id': '#4dfc6dde',\n",
       " 'time': '2025-03-10 18:26:22',\n",
       " 'conversationSummary': {'mainIssue': '客户的X4相机误闯洗衣机后无法开机。',\n",
       "  'resolutionStatus': {'status': '已解决',\n",
       "   'description': '客服引导客户发起维修申请并提供了相关网址和说明。'},\n",
       "  'mainSolution': '客服提供了维修申请的链接及说明，并提醒客户寄回检测。'},\n",
       " 'hotWords': ['X4', '洗衣机', '维修申请', '开机'],\n",
       " 'improvementSuggestions': ['提高客服对产品故障排查的说明细致度，提供更多步骤帮助客户。',\n",
       "  '在结束对话前主动确认客户是否有其他问题，确保充分满意。',\n",
       "  '在提供链接时，说明清楚若应用程序端出现问题的替代解决方案。',\n",
       "  '丰富FAQ及自助服务页面，方便客户快速查找相似问题的处理方法。'],\n",
       " 'metrics': {'satisfaction': {'value': 80},\n",
       "  'resolution': {'value': 70},\n",
       "  'attitude': {'value': 90},\n",
       "  'risk': {'value': 90}},\n",
       " 'summary': '客户询问了关于X4相机故障的问题，客服提供了维修申请的流程和相关信息。',\n",
       " 'tags': ['相机故障问题>开关机类不良', '产品使用咨询>功能使用'],\n",
       " 'times': '2025-03-10 18:26:22'}"
      ]
     },
     "execution_count": 83,
     "metadata": {},
     "output_type": "execute_result"
    }
   ],
   "source": [
    "test"
   ]
  },
  {
   "cell_type": "code",
   "execution_count": 70,
   "metadata": {},
   "outputs": [
    {
     "name": "stdout",
     "output_type": "stream",
     "text": [
      "已更新一条数据到conversations集合\n"
     ]
    }
   ],
   "source": [
    "response = process_single_conversation_update(conversation=,conversation_id=,test_mode= False,model=\"gpt-4o-mini\")"
   ]
  },
  {
   "cell_type": "code",
   "execution_count": 71,
   "metadata": {},
   "outputs": [
    {
     "data": {
      "text/plain": [
       "{'metrics': {'satisfaction': {'value': 75},\n",
       "  'resolution': {'value': 50},\n",
       "  'attitude': {'value': 85},\n",
       "  'risk': {'value': 90}},\n",
       " 'summary': '客户询问影石insta360 One RS是否有新款，客服表示未收到相关通知，并建议关注官方平台。',\n",
       " 'conversationSummary': {'mainIssue': '客户询问影石insta360 One RS的新款产品情况。',\n",
       "  'resolutionStatus': {'status': '未解决',\n",
       "   'description': '客服无法提供有关新品的确切信息，只能建议客户关注官方渠道。'},\n",
       "  'mainSolution': '客服建议客户关注官方网站和微信服务号，以获取新产品公告。'},\n",
       " 'tags': ['产品使用咨询>其他产品使用咨询'],\n",
       " 'improvementSuggestions': ['提供更详细的产品发布周期或新品发布预告信息，以加强客户沟通。',\n",
       "  '在客服对话中加入常见问题的快速解答，提高响应效率。',\n",
       "  '加强对新品动态的内部信息共享，减少客服对客户提问的无解情况。',\n",
       "  '优化关闭会话的提示，确保客户已解决问题后再关闭，使客户感受更好。'],\n",
       " 'hotWords': ['影石insta360', 'One RS', '新款'],\n",
       " 'token_usage': 1784,\n",
       " 'time': '2025-03-10 18:53:50'}"
      ]
     },
     "execution_count": 71,
     "metadata": {},
     "output_type": "execute_result"
    }
   ],
   "source": [
    "response"
   ]
  },
  {
   "cell_type": "code",
   "execution_count": 72,
   "metadata": {},
   "outputs": [],
   "source": [
    "# data['id'] = [custom_length_uuid() for _ in range(len(data))]"
   ]
  },
  {
   "cell_type": "code",
   "execution_count": 73,
   "metadata": {},
   "outputs": [],
   "source": [
    "# data.to_excel('./data_pro.xlsx')"
   ]
  },
  {
   "cell_type": "markdown",
   "metadata": {},
   "source": [
    "## 1. 会话数据处理"
   ]
  },
  {
   "cell_type": "code",
   "execution_count": 74,
   "metadata": {},
   "outputs": [],
   "source": [
    "import os\n",
    "# 获取系统的 CPU 核心数\n",
    "cpu_count = os.cpu_count()\n",
    "default_max_workers = cpu_count * 5  # 默认线程数\n",
    "# 设置新的 max_workers，增加 1.2 倍的线程数并转换为整数\n",
    "new_max_workers = int(default_max_workers * 1.3)"
   ]
  },
  {
   "cell_type": "code",
   "execution_count": 75,
   "metadata": {},
   "outputs": [],
   "source": [
    "from concurrent.futures import ThreadPoolExecutor, as_completed\n",
    "from typing import List\n",
    "from tqdm import tqdm\n",
    "\n",
    "def multi_process_conversation_extraction(\n",
    "    conversations: List[dict],  # 修改为字典列表以包含 conversation_id\n",
    "    max_workers: int = 4,\n",
    "    model=\"gpt-4o-mini\",\n",
    "    test_mode=True\n",
    ") -> List[dict]:\n",
    "    \"\"\"\n",
    "    并行处理评论并存储结果。\n",
    "\n",
    "    参数:\n",
    "        conversations: 包含会话数据和ID的字典列表\n",
    "        max_workers: 最大线程数\n",
    "        model: 使用的模型名称\n",
    "        test_mode: 是否为测试模式\n",
    "    返回:\n",
    "        处理结果的列表\n",
    "    \"\"\"\n",
    "    results = []\n",
    "    try:\n",
    "        with ThreadPoolExecutor(max_workers=max_workers) as executor:\n",
    "            future_to_conversation = {\n",
    "                executor.submit(\n",
    "                    process_single_conversation_extract, \n",
    "                    conversation['content'], \n",
    "                    conversation['id'],  # 传递 conversation_id\n",
    "                    test_mode, \n",
    "                    model\n",
    "                ): conversation \n",
    "                for conversation in conversations\n",
    "            }\n",
    "            \n",
    "            for future in tqdm(\n",
    "                as_completed(future_to_conversation), \n",
    "                total=len(conversations),\n",
    "                desc=\"处理会话\"\n",
    "            ):\n",
    "                try:\n",
    "                    result = future.result()\n",
    "                    results.append(result)\n",
    "                except Exception as e:\n",
    "                    conversation = future_to_conversation[future]\n",
    "                    print(f\"处理会话 {conversation['id']} 时发生错误: {str(e)}\")\n",
    "                    \n",
    "    except Exception as e:\n",
    "        print(f\"批处理过程中发生错误: {str(e)}\")\n",
    "    \n",
    "    return results"
   ]
  },
  {
   "cell_type": "code",
   "execution_count": 76,
   "metadata": {},
   "outputs": [],
   "source": [
    "all_data = pd.read_excel(\"./data_pro.xlsx\")"
   ]
  },
  {
   "cell_type": "code",
   "execution_count": 77,
   "metadata": {},
   "outputs": [
    {
     "data": {
      "text/html": [
       "<div>\n",
       "<style scoped>\n",
       "    .dataframe tbody tr th:only-of-type {\n",
       "        vertical-align: middle;\n",
       "    }\n",
       "\n",
       "    .dataframe tbody tr th {\n",
       "        vertical-align: top;\n",
       "    }\n",
       "\n",
       "    .dataframe thead th {\n",
       "        text-align: right;\n",
       "    }\n",
       "</style>\n",
       "<table border=\"1\" class=\"dataframe\">\n",
       "  <thead>\n",
       "    <tr style=\"text-align: right;\">\n",
       "      <th></th>\n",
       "      <th>Unnamed: 0</th>\n",
       "      <th>会话内容</th>\n",
       "      <th>id</th>\n",
       "    </tr>\n",
       "  </thead>\n",
       "  <tbody>\n",
       "    <tr>\n",
       "      <th>0</th>\n",
       "      <td>0</td>\n",
       "      <td>系统: 有新的咨询进来了。\\n 沐沐: 您好，欢迎光临影石insta360~我是沐沐，请问有...</td>\n",
       "      <td>#779102a4</td>\n",
       "    </tr>\n",
       "    <tr>\n",
       "      <th>1</th>\n",
       "      <td>1</td>\n",
       "      <td>系统: 有新的咨询进来了。\\n 金鱼: 您好，感谢您联系影石Insta360，我是金鱼，很高...</td>\n",
       "      <td>#8d1ed6c9</td>\n",
       "    </tr>\n",
       "    <tr>\n",
       "      <th>2</th>\n",
       "      <td>2</td>\n",
       "      <td>系统: 有新的咨询进来了。\\n 树叶: 您好，欢迎光临影石insta360~我是树叶，请问有...</td>\n",
       "      <td>#ea993536</td>\n",
       "    </tr>\n",
       "    <tr>\n",
       "      <th>3</th>\n",
       "      <td>3</td>\n",
       "      <td>系统: 有新的咨询进来了。\\n 柚子: 您好，感谢您联系影石Insta360，我是柚子，很高...</td>\n",
       "      <td>#9bddb36b</td>\n",
       "    </tr>\n",
       "    <tr>\n",
       "      <th>4</th>\n",
       "      <td>4</td>\n",
       "      <td>系统: 有新的咨询进来了。\\n 15219877537: 手机没办法升级固件怎么办\\n 糖米...</td>\n",
       "      <td>#055c76f6</td>\n",
       "    </tr>\n",
       "  </tbody>\n",
       "</table>\n",
       "</div>"
      ],
      "text/plain": [
       "   Unnamed: 0                                               会话内容         id\n",
       "0           0  系统: 有新的咨询进来了。\\n 沐沐: 您好，欢迎光临影石insta360~我是沐沐，请问有...  #779102a4\n",
       "1           1  系统: 有新的咨询进来了。\\n 金鱼: 您好，感谢您联系影石Insta360，我是金鱼，很高...  #8d1ed6c9\n",
       "2           2  系统: 有新的咨询进来了。\\n 树叶: 您好，欢迎光临影石insta360~我是树叶，请问有...  #ea993536\n",
       "3           3  系统: 有新的咨询进来了。\\n 柚子: 您好，感谢您联系影石Insta360，我是柚子，很高...  #9bddb36b\n",
       "4           4  系统: 有新的咨询进来了。\\n 15219877537: 手机没办法升级固件怎么办\\n 糖米...  #055c76f6"
      ]
     },
     "execution_count": 77,
     "metadata": {},
     "output_type": "execute_result"
    }
   ],
   "source": [
    "all_data.head()"
   ]
  },
  {
   "cell_type": "code",
   "execution_count": 78,
   "metadata": {},
   "outputs": [
    {
     "name": "stdout",
     "output_type": "stream",
     "text": [
      "未处理的会话数量: 0\n"
     ]
    },
    {
     "name": "stderr",
     "output_type": "stream",
     "text": [
      "处理会话: 0it [00:00, ?it/s]\n"
     ]
    }
   ],
   "source": [
    "try:\n",
    "    # 读取 Excel 数据\n",
    "    data = pd.read_excel(\"./data_pro.xlsx\")\n",
    "    # 获取已处理的会话 ID\n",
    "    processed_ids = set(doc['id'] for doc in conversations_collection.find({}, {'id': 1}))\n",
    "    # 筛选未处理的会话\n",
    "    unprocessed_conversations = [\n",
    "        {'id': row['id'], 'content': row['会话内容']}\n",
    "        for _, row in data.iterrows()\n",
    "        if row['id'] not in processed_ids\n",
    "    ]\n",
    "    print(f\"未处理的会话数量: {len(unprocessed_conversations)}\")\n",
    "    \n",
    "    results = multi_process_conversation_extraction(unprocessed_conversations,max_workers=new_max_workers,test_mode=False)\n",
    "except Exception as e:\n",
    "    print(f\"主程序执行错误: {str(e)}\")"
   ]
  },
  {
   "cell_type": "markdown",
   "metadata": {},
   "source": [
    "## 2. 会话信息更新"
   ]
  },
  {
   "cell_type": "code",
   "execution_count": 79,
   "metadata": {},
   "outputs": [],
   "source": [
    "from concurrent.futures import ThreadPoolExecutor, as_completed\n",
    "from typing import List\n",
    "from tqdm import tqdm\n",
    "\n",
    "def multi_process_conversation_update(\n",
    "    conversations: List[dict],  # 修改为字典列表以包含 conversation_id\n",
    "    max_workers: int = 4,\n",
    "    model=\"gpt-4o-mini\",\n",
    "    test_mode=True\n",
    ") -> List[dict]:\n",
    "    \"\"\"\n",
    "    并行处理评论并存储结果。\n",
    "\n",
    "    参数:\n",
    "        conversations: 包含会话数据和ID的字典列表\n",
    "        max_workers: 最大线程数\n",
    "        model: 使用的模型名称\n",
    "        test_mode: 是否为测试模式\n",
    "    返回:\n",
    "        处理结果的列表\n",
    "    \"\"\"\n",
    "    results = []\n",
    "    try:\n",
    "        with ThreadPoolExecutor(max_workers=max_workers) as executor:\n",
    "            future_to_conversation = {\n",
    "                executor.submit(\n",
    "                    process_single_conversation_update, \n",
    "                    conversation['content'], \n",
    "                    conversation['id'],  # 传递 conversation_id\n",
    "                    test_mode, \n",
    "                    model\n",
    "                ): conversation \n",
    "                for conversation in conversations\n",
    "            }\n",
    "            \n",
    "            for future in tqdm(\n",
    "                as_completed(future_to_conversation), \n",
    "                total=len(conversations),\n",
    "                desc=\"处理会话\"\n",
    "            ):\n",
    "                try:\n",
    "                    result = future.result()\n",
    "                    results.append(result)\n",
    "                except Exception as e:\n",
    "                    conversation = future_to_conversation[future]\n",
    "                    print(f\"处理会话 {conversation['id']} 时发生错误: {str(e)}\")\n",
    "                    \n",
    "    except Exception as e:\n",
    "        print(f\"批处理过程中发生错误: {str(e)}\")\n",
    "    \n",
    "    return results"
   ]
  },
  {
   "cell_type": "code",
   "execution_count": 80,
   "metadata": {},
   "outputs": [
    {
     "name": "stdout",
     "output_type": "stream",
     "text": [
      "未处理的会话数量: 1996\n"
     ]
    }
   ],
   "source": [
    "try:\n",
    "    # 获取已处理的会话 ID（仅包含有 metrics 字段的文档）# 筛选未处理的会话\n",
    "    unprocessed_data =  conversations_collection.find({\"id\": {\"$exists\": True},\n",
    "                                                            \"metrics\": {\"$exists\": False}\n",
    "                                                        })\n",
    "    unprocessed_conversations = []\n",
    "    for row in unprocessed_data:\n",
    "        unprocessed_conversations.append({'id': row['id'], 'content': row['origin_conversation']})\n",
    "    print(f\"未处理的会话数量: {len(unprocessed_conversations)}\")\n",
    "    \n",
    "    # results = multi_process_conversation_update(unprocessed_conversations[:5], max_workers=new_max_workers, test_mode=False)\n",
    "except Exception as e:\n",
    "    print(f\"主程序执行错误: {str(e)}\")"
   ]
  },
  {
   "cell_type": "code",
   "execution_count": null,
   "metadata": {},
   "outputs": [],
   "source": []
  }
 ],
 "metadata": {
  "kernelspec": {
   "display_name": "base",
   "language": "python",
   "name": "python3"
  },
  "language_info": {
   "codemirror_mode": {
    "name": "ipython",
    "version": 3
   },
   "file_extension": ".py",
   "mimetype": "text/x-python",
   "name": "python",
   "nbconvert_exporter": "python",
   "pygments_lexer": "ipython3",
   "version": "3.11.7"
  }
 },
 "nbformat": 4,
 "nbformat_minor": 2
}
