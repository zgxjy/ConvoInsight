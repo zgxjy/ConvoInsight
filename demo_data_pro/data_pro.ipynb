{
 "cells": [
  {
   "cell_type": "markdown",
   "metadata": {
    "vscode": {
     "languageId": "plaintext"
    }
   },
   "source": [
    "# 会话数据清洗及分析\n",
    "* 参考示例数据结构"
   ]
  },
  {
   "cell_type": "markdown",
   "metadata": {},
   "source": [
    "## 1.准备数据"
   ]
  },
  {
   "cell_type": "code",
   "execution_count": 1,
   "metadata": {},
   "outputs": [],
   "source": [
    "import pymongo\n",
    "# MongoDB连接配置\n",
    "mongo_client = pymongo.MongoClient(\"mongodb://localhost:27017/\")\n",
    "convoinsight_db = mongo_client[\"convoinsight-danghuan\"]\n",
    "conversations_collection = convoinsight_db[\"conversations\"]"
   ]
  },
  {
   "cell_type": "code",
   "execution_count": 2,
   "metadata": {},
   "outputs": [],
   "source": [
    "import pandas as pd\n",
    "data = pd.read_excel(\"./danghuan.xlsx\")"
   ]
  },
  {
   "cell_type": "code",
   "execution_count": 3,
   "metadata": {},
   "outputs": [
    {
     "data": {
      "text/html": [
       "<div>\n",
       "<style scoped>\n",
       "    .dataframe tbody tr th:only-of-type {\n",
       "        vertical-align: middle;\n",
       "    }\n",
       "\n",
       "    .dataframe tbody tr th {\n",
       "        vertical-align: top;\n",
       "    }\n",
       "\n",
       "    .dataframe thead th {\n",
       "        text-align: right;\n",
       "    }\n",
       "</style>\n",
       "<table border=\"1\" class=\"dataframe\">\n",
       "  <thead>\n",
       "    <tr style=\"text-align: right;\">\n",
       "      <th></th>\n",
       "      <th>会话ID</th>\n",
       "      <th>问题类型</th>\n",
       "      <th>会话详情内容</th>\n",
       "    </tr>\n",
       "  </thead>\n",
       "  <tbody>\n",
       "    <tr>\n",
       "      <th>0</th>\n",
       "      <td>7bc5c9f41f3c44b3a6685b66e47a8d02</td>\n",
       "      <td>下单问题-下单流程咨询</td>\n",
       "      <td>江苏/连云港0630-7992 2025-06-30 19:57:33_x000D_\\n我这...</td>\n",
       "    </tr>\n",
       "    <tr>\n",
       "      <th>1</th>\n",
       "      <td>058a702463334c4a8053ab3063d7a19a</td>\n",
       "      <td>下单问题</td>\n",
       "      <td>金梦爱 2025-06-30 18:46:51_x000D_\\n您好呀！我是小当回收客服欧杰...</td>\n",
       "    </tr>\n",
       "    <tr>\n",
       "      <th>2</th>\n",
       "      <td>fccd2d17776144cfbfc6bbd9323393ca</td>\n",
       "      <td>下单问题</td>\n",
       "      <td>宁夏/固原0630-3132 2025-06-30 18:41:57_x000D_\\n你好，...</td>\n",
       "    </tr>\n",
       "    <tr>\n",
       "      <th>3</th>\n",
       "      <td>347696d5ae12442a82c2465809d72257</td>\n",
       "      <td>下单问题-物流预约</td>\n",
       "      <td>重庆0630-3059 2025-06-30 18:34:21_x000D_\\n好的_x00...</td>\n",
       "    </tr>\n",
       "    <tr>\n",
       "      <th>4</th>\n",
       "      <td>afd4901fdbc84f39b25b128b66522817</td>\n",
       "      <td>下单问题</td>\n",
       "      <td>湖南/娄底0630-6277 2025-06-30 18:33:50_x000D_\\n旧机子...</td>\n",
       "    </tr>\n",
       "  </tbody>\n",
       "</table>\n",
       "</div>"
      ],
      "text/plain": [
       "                               会话ID         问题类型  \\\n",
       "0  7bc5c9f41f3c44b3a6685b66e47a8d02  下单问题-下单流程咨询   \n",
       "1  058a702463334c4a8053ab3063d7a19a         下单问题   \n",
       "2  fccd2d17776144cfbfc6bbd9323393ca         下单问题   \n",
       "3  347696d5ae12442a82c2465809d72257    下单问题-物流预约   \n",
       "4  afd4901fdbc84f39b25b128b66522817         下单问题   \n",
       "\n",
       "                                              会话详情内容  \n",
       "0  江苏/连云港0630-7992 2025-06-30 19:57:33_x000D_\\n我这...  \n",
       "1  金梦爱 2025-06-30 18:46:51_x000D_\\n您好呀！我是小当回收客服欧杰...  \n",
       "2  宁夏/固原0630-3132 2025-06-30 18:41:57_x000D_\\n你好，...  \n",
       "3  重庆0630-3059 2025-06-30 18:34:21_x000D_\\n好的_x00...  \n",
       "4  湖南/娄底0630-6277 2025-06-30 18:33:50_x000D_\\n旧机子...  "
      ]
     },
     "execution_count": 3,
     "metadata": {},
     "output_type": "execute_result"
    }
   ],
   "source": [
    "data.head()"
   ]
  },
  {
   "cell_type": "code",
   "execution_count": 4,
   "metadata": {},
   "outputs": [
    {
     "data": {
      "text/plain": [
       "'江苏/连云港0630-7992 2025-06-30 19:57:33_x000D_\\n我这个旧手机可以再贵一点吗_x000D_\\n_x000D_\\ncoco 2025-06-30 19:57:42_x000D_\\n您好呀！我是小当回收客服coco，很高兴能为您服务！_x000D_\\n_x000D_\\ncoco 2025-06-30 19:57:49_x000D_\\n理解您的心情，二手手机行业与新机销售的市场类型不同，价格体系不同。_x000D_\\n_x000D_\\ncoco 2025-06-30 19:58:01_x000D_\\n如果是已经提交了回收订单，辛苦提供回收订单号或者下单的手机号码，客服为您查询_x000D_\\n_x000D_\\n'"
      ]
     },
     "execution_count": 4,
     "metadata": {},
     "output_type": "execute_result"
    }
   ],
   "source": [
    "data['会话详情内容'][0]"
   ]
  },
  {
   "cell_type": "markdown",
   "metadata": {},
   "source": [
    "## 2. 调用代理"
   ]
  },
  {
   "cell_type": "code",
   "execution_count": 5,
   "metadata": {},
   "outputs": [],
   "source": [
    "import os\n",
    "# Set the proxy URL and port\n",
    "proxy_url = 'http://127.0.0.1'\n",
    "proxy_port = \"6465\" # !!!please replace it with your own port\n",
    "\n",
    "# Set the http_proxy and https_proxy environment variables\n",
    "os.environ['http_proxy'] = f'{proxy_url}:{proxy_port}'\n",
    "os.environ['https_proxy'] = f'{proxy_url}:{proxy_port}'"
   ]
  },
  {
   "cell_type": "markdown",
   "metadata": {},
   "source": [
    "## 3. 单条数据:抽取会话内容的基础信息"
   ]
  },
  {
   "cell_type": "code",
   "execution_count": 6,
   "metadata": {},
   "outputs": [],
   "source": [
    "def system_prompt_for_info_extraction():\n",
    "    prompt = \"\"\"请将以下客服会话数据转换成结构化的JSON格式。根据对话内容提取相关信息，并按照以下结构组织：\n",
    "\n",
    "1. 生成唯一会话ID（如果原始数据中没有明确ID，可使用时间戳或随机字符串）\n",
    "2. 确定客服人员姓名\n",
    "3. 提取客户信息（手机号或用户ID）\n",
    "4. 分析互动情况（总消息数、客服消息数、客户消息数）\n",
    "5. 按顺序整理所有消息，包括:\n",
    "   - 消息类型（系统/客服/客户）\n",
    "   - 消息内容\n",
    "   - 发送者\n",
    "   - 对客户消息添加情感分析（正向/中立/负向）\n",
    "\n",
    "请使用以下JSON结构：\n",
    "\n",
    "{\n",
    "  \"agent\": \"客服姓名\",\n",
    "  \"customerInfo\": {\n",
    "    \"userId\": \"客户ID或手机号\",\n",
    "    \"device\": \"相关设备信息（如有）\",\n",
    "    \"history\": \"客户历史信息（如有）\"\n",
    "  },\n",
    "  \"interactionAnalysis\": {\n",
    "    \"totalMessages\": 消息总数,\n",
    "    \"agentMessages\": 客服消息数,\n",
    "    \"userMessages\": 客户消息数\n",
    "  },\n",
    "  \"messages\": [\n",
    "    {\n",
    "      \"type\": \"消息类型（system/agent/user）\",\n",
    "      \"content\": \"消息内容\",\n",
    "      \"sender\": \"发送者名称/ID\",\n",
    "      \"sentiment\": \"情感分析（仅用户消息需要）\"\n",
    "    },\n",
    "    // 更多消息...\n",
    "  ]\n",
    "}    \n",
    "    \"\"\"\n",
    "    return prompt\n",
    "\n",
    "def user_prompt_for_info_extraction(conversations_string):\n",
    "    prompt = \"\"\"# 原始会话数据：\n",
    "{conversations_string}\n",
    "请根据上述要求将原始会话数据转换为结构化的JSON格式。\n",
    "    \"\"\".format(conversations_string = conversations_string)\n",
    "    return prompt"
   ]
  },
  {
   "cell_type": "code",
   "execution_count": 7,
   "metadata": {},
   "outputs": [
    {
     "name": "stdout",
     "output_type": "stream",
     "text": [
      "# 原始会话数据：\n",
      "test\n",
      "请根据上述要求将原始会话数据转换为结构化的JSON格式。\n",
      "    \n"
     ]
    }
   ],
   "source": [
    "print(user_prompt_for_info_extraction(\"test\"))"
   ]
  },
  {
   "cell_type": "code",
   "execution_count": 8,
   "metadata": {},
   "outputs": [],
   "source": [
    "from openai import OpenAI\n",
    "import os\n",
    "# client = OpenAI(api_key=os.getenv('DEEPSEEK_API_KEY'), base_url=\"https://api.deepseek.com\")\n",
    "client = OpenAI(api_key=os.getenv('OPEN_AI_KEY'))\n",
    "model_name = \"gpt-4o-mini\""
   ]
  },
  {
   "cell_type": "code",
   "execution_count": 9,
   "metadata": {},
   "outputs": [],
   "source": [
    "import uuid\n",
    "from datetime import datetime\n",
    "def custom_length_uuid(length=8):\n",
    "    \"\"\"Generate a UUID of custom length (minimum recommended: 8)\"\"\"\n",
    "    # Generate a random UUID and remove hyphens\n",
    "    u = str(uuid.uuid4()).replace('-', '')\n",
    "    # Return a substring of the desired length\n",
    "    return \"#\"+u[:length]\n"
   ]
  },
  {
   "cell_type": "code",
   "execution_count": 10,
   "metadata": {},
   "outputs": [
    {
     "data": {
      "text/plain": [
       "'#0140da98'"
      ]
     },
     "execution_count": 10,
     "metadata": {},
     "output_type": "execute_result"
    }
   ],
   "source": [
    "custom_length_uuid()"
   ]
  },
  {
   "cell_type": "code",
   "execution_count": 11,
   "metadata": {},
   "outputs": [],
   "source": [
    "import json\n",
    "def process_single_conversation_extract(conversation:str,conversation_id:str,test_mode:bool,model=\"gpt-4o-mini\"):\n",
    "    \"\"\"\n",
    "    处理单条评论数据。\n",
    "\n",
    "    参数:\n",
    "        conversation: 客服会话对话信息\n",
    "        test_mode: 是否为测试模式,布尔类型\n",
    "        model:处理模型版本\n",
    "\n",
    "    返回:\n",
    "        Dict[str, Any]: 处理结果字典\n",
    "    \"\"\"\n",
    "    \n",
    "    try:\n",
    "        # 准备提示文本\n",
    "        system_prompt = system_prompt_for_info_extraction()\n",
    "        user_prompt = user_prompt_for_info_extraction(conversations_string = conversation)\n",
    "\n",
    "        # 调用模型获取结果\n",
    "        response = client.chat.completions.create(\n",
    "            model = model,\n",
    "            messages=[\n",
    "                {\"role\": \"system\", \"content\": system_prompt},\n",
    "                {\"role\": \"user\", \"content\": user_prompt },\n",
    "            ],\n",
    "            stream=False,\n",
    "                response_format={\n",
    "                'type': 'json_object'\n",
    "            }\n",
    "        )\n",
    "\n",
    "        # 获取 token 消耗数量\n",
    "        token_usage = response.usage.total_tokens if hasattr(response, 'usage') else None\n",
    "\n",
    "        try:\n",
    "            content = response.choices[0].message.content\n",
    "            parsed_content = json.loads(content)  # 解析内容\n",
    "            # print(parsed_content)\n",
    "            result_doc = parsed_content\n",
    "            result_doc['origin_conversation'] = conversation\n",
    "            result_doc['token_usage'] = token_usage\n",
    "            result_doc['id'] = conversation_id\n",
    "            result_doc['time'] = datetime.now().strftime(\"%Y-%m-%d %H:%M:%S\")\n",
    "        except json.JSONDecodeError as e:\n",
    "            print(f\"JSON 解析失败: {e}\")\n",
    "        except AttributeError as e:\n",
    "            print(f\"属性访问失败: {e}\")\n",
    "        except Exception as e:\n",
    "            print(f\"处理过程中发生错误: {e}\")\n",
    "        \n",
    "        if test_mode:\n",
    "            return result_doc\n",
    "        else:\n",
    "            conversations_collection.insert_one(result_doc)\n",
    "            print(f\"已插入一条数据到conversations集合\")\n",
    "            return result_doc\n",
    "\n",
    "    except Exception as e:\n",
    "        # 记录错误信息\n",
    "        result_doc = {\n",
    "            'error': str(e),\n",
    "            \"id\":conversation_id,\n",
    "            'processed_at': datetime.now().strftime(\"%Y-%m-%d %H:%M:%S\"),\n",
    "            'status': 'failed',\n",
    "            \"model\": model,\n",
    "        }\n",
    "        return result_doc"
   ]
  },
  {
   "cell_type": "code",
   "execution_count": 27,
   "metadata": {},
   "outputs": [
    {
     "name": "stdout",
     "output_type": "stream",
     "text": [
      "已插入一条数据到conversations集合\n"
     ]
    }
   ],
   "source": [
    "response = process_single_conversation_extract(conversation=data['会话详情内容'][0],conversation_id=\"#001\",test_mode=False)"
   ]
  },
  {
   "cell_type": "code",
   "execution_count": 28,
   "metadata": {},
   "outputs": [
    {
     "data": {
      "text/plain": [
       "{'agent': 'coco',\n",
       " 'customerInfo': {'userId': '0630-7992', 'device': '旧手机', 'history': '无'},\n",
       " 'interactionAnalysis': {'totalMessages': 5,\n",
       "  'agentMessages': 3,\n",
       "  'userMessages': 2},\n",
       " 'messages': [{'type': 'user',\n",
       "   'content': '我这个旧手机可以再贵一点吗',\n",
       "   'sender': '0630-7992',\n",
       "   'sentiment': '中立'},\n",
       "  {'type': 'agent',\n",
       "   'content': '您好呀！我是小当回收客服coco，很高兴能为您服务！',\n",
       "   'sender': 'coco',\n",
       "   'sentiment': None},\n",
       "  {'type': 'agent',\n",
       "   'content': '理解您的心情，二手手机行业与新机销售的市场类型不同，价格体系不同。',\n",
       "   'sender': 'coco',\n",
       "   'sentiment': None},\n",
       "  {'type': 'agent',\n",
       "   'content': '如果是已经提交了回收订单，辛苦提供回收订单号或者下单的手机号码，客服为您查询',\n",
       "   'sender': 'coco',\n",
       "   'sentiment': None}],\n",
       " 'origin_conversation': '江苏/连云港0630-7992 2025-06-30 19:57:33_x000D_\\n我这个旧手机可以再贵一点吗_x000D_\\n_x000D_\\ncoco 2025-06-30 19:57:42_x000D_\\n您好呀！我是小当回收客服coco，很高兴能为您服务！_x000D_\\n_x000D_\\ncoco 2025-06-30 19:57:49_x000D_\\n理解您的心情，二手手机行业与新机销售的市场类型不同，价格体系不同。_x000D_\\n_x000D_\\ncoco 2025-06-30 19:58:01_x000D_\\n如果是已经提交了回收订单，辛苦提供回收订单号或者下单的手机号码，客服为您查询_x000D_\\n_x000D_\\n',\n",
       " 'token_usage': 841,\n",
       " 'id': '#001',\n",
       " 'time': '2025-07-18 10:48:21',\n",
       " '_id': ObjectId('6879b5f5d9eab0e645a9c2bf')}"
      ]
     },
     "execution_count": 28,
     "metadata": {},
     "output_type": "execute_result"
    }
   ],
   "source": [
    "response"
   ]
  },
  {
   "cell_type": "markdown",
   "metadata": {},
   "source": [
    "## 4. 单条数据：抽取会话内容的诊断信息"
   ]
  },
  {
   "cell_type": "code",
   "execution_count": 29,
   "metadata": {},
   "outputs": [],
   "source": [
    "from datetime import datetime"
   ]
  },
  {
   "cell_type": "code",
   "execution_count": 30,
   "metadata": {},
   "outputs": [],
   "source": [
    "def system_prompt_for_info_update():\n",
    "    prompt = \"\"\"# 客服对话结构化分析\n",
    "你是一个有着十年专业经验的客服总监，现在需要基于客户对话进行会话内容的分析和诊断\n",
    "## 任务描述\n",
    "分析以下客服与客户的对话内容，将其转化为结构化数据，包括:\n",
    "1. 客户满意度、问题解决程度、客服态度和安全风险评估等关键指标\n",
    "2. 对话摘要和主要问题识别\n",
    "3. 问题解决情况及解决方案\n",
    "4. 相关标签和关键词提取\n",
    "5. 客服改进建议\n",
    "\n",
    "## 分析指南\n",
    "1. **对话指标评估**:\n",
    "   - 客户满意度(0-100): 根据客户回应的积极程度、问题解决情况评估\n",
    "   - 问题解决程度(0-100): 根据客户问题是否得到全面解答评估\n",
    "   - 客服态度(0-100): 根据客服回应的礼貌度、专业性、响应速度评估\n",
    "   - 安全评估(0-100): 分析对话中可能存在的安全隐患，数值越高代表越安全\n",
    "2. **对话摘要**:\n",
    "   - 提取对话的主要主题和要点，用1-2句话概括\n",
    "3. **对话详细分析**:\n",
    "   - 识别客户的主要问题\n",
    "   - 确定问题解决状态(已解决/部分解决/未解决/无法解决)\n",
    "   - 概括客服提供的解决方案\n",
    "4. **标签和关键词**:\n",
    "   - 标签：根据对话内容提取最匹配的相关标签\n",
    "   - 关键词：识别客户对话中出现的热门词汇或产品名称\n",
    "5. **改进建议**:\n",
    "   - 根据对话分析，提供2-4条客服可以改进的具体建议\n",
    "\n",
    "## 输出格式\n",
    "请按以下JSON格式输出分析结果:\n",
    "\n",
    "```json\n",
    "{\n",
    "  \"metrics\": {\n",
    "    \"satisfaction\": { \"value\": 0-100 },\n",
    "    \"resolution\": { \"value\": 0-100 },\n",
    "    \"attitude\": { \"value\": 0-100 },\n",
    "    \"security\": { \"value\": 0-100 }\n",
    "  },\n",
    "  \"summary\": \"一句话总结对话内容\",\n",
    "  \"conversationSummary\": {\n",
    "    \"mainIssue\": \"客户主要问题\",\n",
    "    \"resolutionStatus\": {\n",
    "      \"status\": \"已解决/部分解决/未解决/无法解决\",\n",
    "      \"description\": \"解决方案描述\"\n",
    "    },\n",
    "    \"mainSolution\": \"客服提供的主要解决方案\"\n",
    "  },\n",
    "  \"tags\": [\"标签1\"],\n",
    "  \"improvementSuggestions\": [\n",
    "    \"改进建议1\",\n",
    "    \"改进建议2\",\n",
    "    \"改进建议3\"\n",
    "  ],\n",
    "  \"hotWords\": [\"关键词1\", \"关键词2\", \"关键词3\"]\n",
    "}\n",
    "```\n",
    "## 特别注意事项\n",
    "1. 所有评分必须基于客观事实，避免主观臆断\n",
    "2. 标签应精准反映对话主题和产品类别\n",
    "3. 改进建议应具体、可操作且有建设性\n",
    "4. 如对话未明确表明某信息，应做合理推断并注明\n",
    "    \"\"\"\n",
    "    return prompt\n",
    "\n",
    "def user_prompt_for_info_update(conversations_string):\n",
    "    prompt = \"\"\"# 原始会话数据：\n",
    "{conversations_string}\n",
    "    \"\"\".format(conversations_string = conversations_string)\n",
    "    return prompt"
   ]
  },
  {
   "cell_type": "code",
   "execution_count": 31,
   "metadata": {},
   "outputs": [],
   "source": [
    "problem_tags_list = \"\"\"产品使用咨询>功能使用\n",
    "产品使用咨询>相机操作咨询\n",
    "产品使用咨询>Insta360 APP咨询\n",
    "产品使用咨询>Studio 咨询\n",
    "产品使用咨询>教程需求咨询\n",
    "产品使用咨询>配件使用\n",
    "产品使用咨询>云服务使用咨询\n",
    "产品使用咨询>Connect使用咨询\n",
    "产品使用咨询>其他产品使用咨询\n",
    "相机故障问题>镜头外观不良\n",
    "相机故障问题>镜头功能类不良\n",
    "相机故障问题>屏外观不良\n",
    "相机故障问题>屏功能不良\n",
    "相机故障问题>按键外观/功能不良\n",
    "相机故障问题>电池外观(功能)不良\n",
    "相机故障问题>USB盖/喇叭盖/其他盖子损坏\n",
    "相机故障问题>机身外观不良\n",
    "相机故障问题>进液\n",
    "相机故障问题>充电类不良\n",
    "相机故障问题>发热\n",
    "相机故障问题>拼接类不良\n",
    "相机故障问题>Wifi连接类不良\n",
    "相机故障问题>蓝牙连接不良\n",
    "相机故障问题>有线连接类不良\n",
    "相机故障问题>声音类不良\n",
    "相机故障问题>图像类不良（预览&成片）\n",
    "相机故障问题>防抖类异常\n",
    "相机故障问题>死机\n",
    "相机故障问题>开关机类不良\n",
    "相机故障问题>升级异常\n",
    "相机故障问题>续航异常\n",
    "相机故障问题>相机录制异常/停止录像\n",
    "相机故障问题>相机文件异常\n",
    "相机故障问题>内存卡相关异常\n",
    "相机故障问题>直播异常-专业级\n",
    "相机故障问题>其他故障\n",
    "\"\"\""
   ]
  },
  {
   "cell_type": "code",
   "execution_count": 32,
   "metadata": {},
   "outputs": [],
   "source": [
    "def validate_data_structure(data):\n",
    "    \"\"\"验证数据结构是否符合预期\"\"\"\n",
    "    required_keys = {\n",
    "        \"metrics\": dict,\n",
    "        \"summary\": str,\n",
    "        \"conversationSummary\": dict,\n",
    "        \"tags\": list,\n",
    "        \"improvementSuggestions\": list,\n",
    "        \"hotWords\": list\n",
    "    }\n",
    "    \n",
    "    for key, expected_type in required_keys.items():\n",
    "        if key not in data or not isinstance(data[key], expected_type):\n",
    "            return False\n",
    "    \n",
    "    # 进一步验证嵌套结构\n",
    "    metrics_keys = {\"satisfaction\", \"resolution\", \"attitude\", \"security\"}\n",
    "    if not all(k in data[\"metrics\"] for k in metrics_keys):\n",
    "        return False\n",
    "    \n",
    "    conversation_summary_keys = {\"mainIssue\", \"resolutionStatus\", \"mainSolution\"}\n",
    "    if not all(k in data[\"conversationSummary\"] for k in conversation_summary_keys):\n",
    "        return False\n",
    "    \n",
    "    resolution_status_keys = {\"status\", \"description\"}\n",
    "    if not all(k in data[\"conversationSummary\"][\"resolutionStatus\"] for k in resolution_status_keys):\n",
    "        return False\n",
    "    \n",
    "    return True\n",
    "\n",
    "def update_conversation(conversation_id, new_data):\n",
    "    # 验证数据结构\n",
    "    if not validate_data_structure(new_data):\n",
    "        print(\"数据结构不符合预期，更新操作已取消。\")\n",
    "        return None\n",
    "    \n",
    "    # 查找现有文档\n",
    "    existing_doc = conversations_collection.find_one({'id': conversation_id})\n",
    "    \n",
    "    # 准备更新数据\n",
    "    update_data = new_data.copy()\n",
    "    \n",
    "    if existing_doc:\n",
    "        # 更新时间为最新时间\n",
    "        update_data['times'] = new_data.get('time', existing_doc.get('time'))\n",
    "        # 合并 token_usage\n",
    "        if 'token_usage' in new_data and 'token_usage' in existing_doc:\n",
    "            update_data['token_usage'] = existing_doc['token_usage'] + new_data['token_usage']\n",
    "\n",
    "        # 合并其他字段，保留现有字段，添加新字段\n",
    "        for key in existing_doc:\n",
    "            if key not in update_data and key != '_id':\n",
    "                update_data[key] = existing_doc[key]\n",
    "    \n",
    "    # 执行更新操作\n",
    "    result = conversations_collection.update_one(\n",
    "        {'id': conversation_id},\n",
    "        {'$set': update_data},\n",
    "        upsert=True  # 如果文档不存在，则创建新文档\n",
    "    )\n",
    "    print(f\"已更新一条数据到conversations集合\")\n",
    "    return result"
   ]
  },
  {
   "cell_type": "code",
   "execution_count": 33,
   "metadata": {},
   "outputs": [],
   "source": [
    "def process_single_conversation_update(conversation:str,conversation_id:str,test_mode:bool,model=\"gpt-4o-mini\"):\n",
    "    \"\"\"\n",
    "    处理单条评论数据。\n",
    "\n",
    "    参数:\n",
    "        conversation: 客服会话对话信息\n",
    "        test_mode: 是否为测试模式,布尔类型\n",
    "        model:处理模型版本\n",
    "\n",
    "    返回:\n",
    "        Dict[str, Any]: 处理结果字典\n",
    "    \"\"\"\n",
    "    \n",
    "    try:\n",
    "        # 准备提示文本\n",
    "        system_prompt = system_prompt_for_info_update()\n",
    "        user_prompt = user_prompt_for_info_update(conversations_string = conversation)\n",
    "\n",
    "        # 调用模型获取结果\n",
    "        response = client.chat.completions.create(\n",
    "            model = model,\n",
    "            messages=[\n",
    "                {\"role\": \"system\", \"content\": system_prompt},\n",
    "                {\"role\": \"user\", \"content\": user_prompt },\n",
    "            ],\n",
    "            stream=False,\n",
    "                response_format={\n",
    "                'type': 'json_object'\n",
    "            }\n",
    "        )\n",
    "\n",
    "        # 获取 token 消耗数量\n",
    "        token_usage = response.usage.total_tokens if hasattr(response, 'usage') else None\n",
    "\n",
    "        try:\n",
    "            content = response.choices[0].message.content\n",
    "            parsed_content = json.loads(content)  # 解析内容\n",
    "            # print(parsed_content)\n",
    "            result_doc = parsed_content\n",
    "            result_doc['token_usage'] = token_usage\n",
    "            result_doc['time'] = datetime.now().strftime(\"%Y-%m-%d %H:%M:%S\")\n",
    "        except json.JSONDecodeError as e:\n",
    "            print(f\"JSON 解析失败: {e}\")\n",
    "        except AttributeError as e:\n",
    "            print(f\"属性访问失败: {e}\")\n",
    "        except Exception as e:\n",
    "            print(f\"处理过程中发生错误: {e}\")\n",
    "        \n",
    "        if test_mode:\n",
    "            return result_doc\n",
    "        else:\n",
    "            # 更新原始数据\n",
    "            update_conversation(conversation_id, result_doc)\n",
    "            return result_doc\n",
    "\n",
    "    except Exception as e:\n",
    "        # 记录错误信息\n",
    "        result_doc = {\n",
    "            'error': str(e),\n",
    "            \"conversation\":conversation,\n",
    "            'processed_at': datetime.now().strftime(\"%Y-%m-%d %H:%M:%S\"),\n",
    "            'status': 'failed',\n",
    "            \"model\": model,\n",
    "        }\n",
    "        return result_doc"
   ]
  },
  {
   "cell_type": "code",
   "execution_count": 34,
   "metadata": {},
   "outputs": [],
   "source": [
    "test = dict(conversations_collection.find_one({\"id\": {\"$exists\": True},\n",
    "                                                            \"metrics\": {\"$exists\": False}\n",
    "                                                        }))"
   ]
  },
  {
   "cell_type": "code",
   "execution_count": 35,
   "metadata": {},
   "outputs": [
    {
     "data": {
      "text/plain": [
       "{'_id': ObjectId('6879b5f5d9eab0e645a9c2bf'),\n",
       " 'agent': 'coco',\n",
       " 'customerInfo': {'userId': '0630-7992', 'device': '旧手机', 'history': '无'},\n",
       " 'interactionAnalysis': {'totalMessages': 5,\n",
       "  'agentMessages': 3,\n",
       "  'userMessages': 2},\n",
       " 'messages': [{'type': 'user',\n",
       "   'content': '我这个旧手机可以再贵一点吗',\n",
       "   'sender': '0630-7992',\n",
       "   'sentiment': '中立'},\n",
       "  {'type': 'agent',\n",
       "   'content': '您好呀！我是小当回收客服coco，很高兴能为您服务！',\n",
       "   'sender': 'coco',\n",
       "   'sentiment': None},\n",
       "  {'type': 'agent',\n",
       "   'content': '理解您的心情，二手手机行业与新机销售的市场类型不同，价格体系不同。',\n",
       "   'sender': 'coco',\n",
       "   'sentiment': None},\n",
       "  {'type': 'agent',\n",
       "   'content': '如果是已经提交了回收订单，辛苦提供回收订单号或者下单的手机号码，客服为您查询',\n",
       "   'sender': 'coco',\n",
       "   'sentiment': None}],\n",
       " 'origin_conversation': '江苏/连云港0630-7992 2025-06-30 19:57:33_x000D_\\n我这个旧手机可以再贵一点吗_x000D_\\n_x000D_\\ncoco 2025-06-30 19:57:42_x000D_\\n您好呀！我是小当回收客服coco，很高兴能为您服务！_x000D_\\n_x000D_\\ncoco 2025-06-30 19:57:49_x000D_\\n理解您的心情，二手手机行业与新机销售的市场类型不同，价格体系不同。_x000D_\\n_x000D_\\ncoco 2025-06-30 19:58:01_x000D_\\n如果是已经提交了回收订单，辛苦提供回收订单号或者下单的手机号码，客服为您查询_x000D_\\n_x000D_\\n',\n",
       " 'token_usage': 841,\n",
       " 'id': '#001',\n",
       " 'time': '2025-07-18 10:48:21'}"
      ]
     },
     "execution_count": 35,
     "metadata": {},
     "output_type": "execute_result"
    }
   ],
   "source": [
    "test"
   ]
  },
  {
   "cell_type": "code",
   "execution_count": 38,
   "metadata": {},
   "outputs": [
    {
     "name": "stdout",
     "output_type": "stream",
     "text": [
      "已更新一条数据到conversations集合\n"
     ]
    }
   ],
   "source": [
    "response = process_single_conversation_update(conversation=test['origin_conversation'],conversation_id=test[\"id\"],test_mode= False,model=\"gpt-4o-mini\")"
   ]
  },
  {
   "cell_type": "code",
   "execution_count": 39,
   "metadata": {},
   "outputs": [
    {
     "data": {
      "text/plain": [
       "{'metrics': {'satisfaction': {'value': 75},\n",
       "  'resolution': {'value': 60},\n",
       "  'attitude': {'value': 85},\n",
       "  'security': {'value': 90}},\n",
       " 'summary': '客户询问旧手机是否可以更高回收价，客服提供了相关建议。',\n",
       " 'conversationSummary': {'mainIssue': '客户想知道旧手机是否可以获得更高的回收价格。',\n",
       "  'resolutionStatus': {'status': '部分解决',\n",
       "   'description': '客服解释了二手手机价格体系及查询要求，未能确认具体的回收价格。'},\n",
       "  'mainSolution': '客服引导客户提供订单号或手机号码进行查询。'},\n",
       " 'tags': ['手机回收', '二手手机', '客服咨询'],\n",
       " 'improvementSuggestions': ['针对二手手机的回收价格提供更多具体信息，减少客户不确定感。',\n",
       "  '在对话中主动询问客户是否有订单号，减少客户再次提问的机会。',\n",
       "  '增强客服对市场行情的理解，以便更好解答价格相关的问题。'],\n",
       " 'hotWords': ['旧手机', '回收价格', '二手手机'],\n",
       " 'token_usage': 1182,\n",
       " 'time': '2025-07-18 10:49:28'}"
      ]
     },
     "execution_count": 39,
     "metadata": {},
     "output_type": "execute_result"
    }
   ],
   "source": [
    "response"
   ]
  },
  {
   "cell_type": "code",
   "execution_count": 72,
   "metadata": {},
   "outputs": [],
   "source": [
    "# data['id'] = [custom_length_uuid() for _ in range(len(data))]"
   ]
  },
  {
   "cell_type": "code",
   "execution_count": 73,
   "metadata": {},
   "outputs": [],
   "source": [
    "# data.to_excel('./data_pro.xlsx')"
   ]
  },
  {
   "cell_type": "markdown",
   "metadata": {},
   "source": [
    "## 1. 会话数据处理"
   ]
  },
  {
   "cell_type": "code",
   "execution_count": 40,
   "metadata": {},
   "outputs": [],
   "source": [
    "import os\n",
    "# 获取系统的 CPU 核心数\n",
    "cpu_count = os.cpu_count()\n",
    "default_max_workers = cpu_count * 5  # 默认线程数\n",
    "# 设置新的 max_workers，增加 1.2 倍的线程数并转换为整数\n",
    "new_max_workers = int(default_max_workers * 1.3)"
   ]
  },
  {
   "cell_type": "code",
   "execution_count": 41,
   "metadata": {},
   "outputs": [],
   "source": [
    "from concurrent.futures import ThreadPoolExecutor, as_completed\n",
    "from typing import List\n",
    "from tqdm import tqdm\n",
    "\n",
    "def multi_process_conversation_extraction(\n",
    "    conversations: List[dict],  # 修改为字典列表以包含 conversation_id\n",
    "    max_workers: int = 4,\n",
    "    model=\"gpt-4o-mini\",\n",
    "    test_mode=True\n",
    ") -> List[dict]:\n",
    "    \"\"\"\n",
    "    并行处理评论并存储结果。\n",
    "\n",
    "    参数:\n",
    "        conversations: 包含会话数据和ID的字典列表\n",
    "        max_workers: 最大线程数\n",
    "        model: 使用的模型名称\n",
    "        test_mode: 是否为测试模式\n",
    "    返回:\n",
    "        处理结果的列表\n",
    "    \"\"\"\n",
    "    results = []\n",
    "    try:\n",
    "        with ThreadPoolExecutor(max_workers=max_workers) as executor:\n",
    "            future_to_conversation = {\n",
    "                executor.submit(\n",
    "                    process_single_conversation_extract, \n",
    "                    conversation['content'], \n",
    "                    conversation['id'],  # 传递 conversation_id\n",
    "                    test_mode, \n",
    "                    model\n",
    "                ): conversation \n",
    "                for conversation in conversations\n",
    "            }\n",
    "            \n",
    "            for future in tqdm(\n",
    "                as_completed(future_to_conversation), \n",
    "                total=len(conversations),\n",
    "                desc=\"处理会话\"\n",
    "            ):\n",
    "                try:\n",
    "                    result = future.result()\n",
    "                    results.append(result)\n",
    "                except Exception as e:\n",
    "                    conversation = future_to_conversation[future]\n",
    "                    print(f\"处理会话 {conversation['id']} 时发生错误: {str(e)}\")\n",
    "                    \n",
    "    except Exception as e:\n",
    "        print(f\"批处理过程中发生错误: {str(e)}\")\n",
    "    \n",
    "    return results"
   ]
  },
  {
   "cell_type": "code",
   "execution_count": null,
   "metadata": {},
   "outputs": [],
   "source": [
    "# all_data = pd.read_excel(\"./data_pro.xlsx\")"
   ]
  },
  {
   "cell_type": "code",
   "execution_count": 42,
   "metadata": {},
   "outputs": [
    {
     "data": {
      "text/html": [
       "<div>\n",
       "<style scoped>\n",
       "    .dataframe tbody tr th:only-of-type {\n",
       "        vertical-align: middle;\n",
       "    }\n",
       "\n",
       "    .dataframe tbody tr th {\n",
       "        vertical-align: top;\n",
       "    }\n",
       "\n",
       "    .dataframe thead th {\n",
       "        text-align: right;\n",
       "    }\n",
       "</style>\n",
       "<table border=\"1\" class=\"dataframe\">\n",
       "  <thead>\n",
       "    <tr style=\"text-align: right;\">\n",
       "      <th></th>\n",
       "      <th>会话ID</th>\n",
       "      <th>问题类型</th>\n",
       "      <th>会话详情内容</th>\n",
       "    </tr>\n",
       "  </thead>\n",
       "  <tbody>\n",
       "    <tr>\n",
       "      <th>0</th>\n",
       "      <td>7bc5c9f41f3c44b3a6685b66e47a8d02</td>\n",
       "      <td>下单问题-下单流程咨询</td>\n",
       "      <td>江苏/连云港0630-7992 2025-06-30 19:57:33_x000D_\\n我这...</td>\n",
       "    </tr>\n",
       "    <tr>\n",
       "      <th>1</th>\n",
       "      <td>058a702463334c4a8053ab3063d7a19a</td>\n",
       "      <td>下单问题</td>\n",
       "      <td>金梦爱 2025-06-30 18:46:51_x000D_\\n您好呀！我是小当回收客服欧杰...</td>\n",
       "    </tr>\n",
       "    <tr>\n",
       "      <th>2</th>\n",
       "      <td>fccd2d17776144cfbfc6bbd9323393ca</td>\n",
       "      <td>下单问题</td>\n",
       "      <td>宁夏/固原0630-3132 2025-06-30 18:41:57_x000D_\\n你好，...</td>\n",
       "    </tr>\n",
       "    <tr>\n",
       "      <th>3</th>\n",
       "      <td>347696d5ae12442a82c2465809d72257</td>\n",
       "      <td>下单问题-物流预约</td>\n",
       "      <td>重庆0630-3059 2025-06-30 18:34:21_x000D_\\n好的_x00...</td>\n",
       "    </tr>\n",
       "    <tr>\n",
       "      <th>4</th>\n",
       "      <td>afd4901fdbc84f39b25b128b66522817</td>\n",
       "      <td>下单问题</td>\n",
       "      <td>湖南/娄底0630-6277 2025-06-30 18:33:50_x000D_\\n旧机子...</td>\n",
       "    </tr>\n",
       "    <tr>\n",
       "      <th>...</th>\n",
       "      <td>...</td>\n",
       "      <td>...</td>\n",
       "      <td>...</td>\n",
       "    </tr>\n",
       "    <tr>\n",
       "      <th>1693</th>\n",
       "      <td>a02481b4b69a43eeb3e31c7d1efb0f3e</td>\n",
       "      <td>下单问题</td>\n",
       "      <td>江西/南昌0601-6614 2025-06-01 09:21:19_x000D_\\n手机屏...</td>\n",
       "    </tr>\n",
       "    <tr>\n",
       "      <th>1694</th>\n",
       "      <td>7091769e214e404b9c6bf6c48b1988b6</td>\n",
       "      <td>下单问题-物流预约</td>\n",
       "      <td>云南/昆明0601-2621 2025-06-01 09:20:25_x000D_\\n你好_...</td>\n",
       "    </tr>\n",
       "    <tr>\n",
       "      <th>1695</th>\n",
       "      <td>78e9550fd3be4966b95a7b61c9a11564</td>\n",
       "      <td>下单问题-下单流程咨询</td>\n",
       "      <td>浙江/杭州0601-5725 2025-06-01 09:18:29_x000D_\\n你好_...</td>\n",
       "    </tr>\n",
       "    <tr>\n",
       "      <th>1696</th>\n",
       "      <td>20b8317392224743a311c9c6464e6047</td>\n",
       "      <td>下单问题-物流费用</td>\n",
       "      <td>湖南/长沙0531-1977 2025-06-01 09:02:35_x000D_\\n回收手...</td>\n",
       "    </tr>\n",
       "    <tr>\n",
       "      <th>1697</th>\n",
       "      <td>529233401b1649a9925e4158218c48a2</td>\n",
       "      <td>下单问题-物流费用</td>\n",
       "      <td>吉林/长春0531-4426 2025-06-01 09:02:03\\n人工客服\\n\\n吉林...</td>\n",
       "    </tr>\n",
       "  </tbody>\n",
       "</table>\n",
       "<p>1698 rows × 3 columns</p>\n",
       "</div>"
      ],
      "text/plain": [
       "                                  会话ID         问题类型  \\\n",
       "0     7bc5c9f41f3c44b3a6685b66e47a8d02  下单问题-下单流程咨询   \n",
       "1     058a702463334c4a8053ab3063d7a19a         下单问题   \n",
       "2     fccd2d17776144cfbfc6bbd9323393ca         下单问题   \n",
       "3     347696d5ae12442a82c2465809d72257    下单问题-物流预约   \n",
       "4     afd4901fdbc84f39b25b128b66522817         下单问题   \n",
       "...                                ...          ...   \n",
       "1693  a02481b4b69a43eeb3e31c7d1efb0f3e         下单问题   \n",
       "1694  7091769e214e404b9c6bf6c48b1988b6    下单问题-物流预约   \n",
       "1695  78e9550fd3be4966b95a7b61c9a11564  下单问题-下单流程咨询   \n",
       "1696  20b8317392224743a311c9c6464e6047    下单问题-物流费用   \n",
       "1697  529233401b1649a9925e4158218c48a2    下单问题-物流费用   \n",
       "\n",
       "                                                 会话详情内容  \n",
       "0     江苏/连云港0630-7992 2025-06-30 19:57:33_x000D_\\n我这...  \n",
       "1     金梦爱 2025-06-30 18:46:51_x000D_\\n您好呀！我是小当回收客服欧杰...  \n",
       "2     宁夏/固原0630-3132 2025-06-30 18:41:57_x000D_\\n你好，...  \n",
       "3     重庆0630-3059 2025-06-30 18:34:21_x000D_\\n好的_x00...  \n",
       "4     湖南/娄底0630-6277 2025-06-30 18:33:50_x000D_\\n旧机子...  \n",
       "...                                                 ...  \n",
       "1693  江西/南昌0601-6614 2025-06-01 09:21:19_x000D_\\n手机屏...  \n",
       "1694  云南/昆明0601-2621 2025-06-01 09:20:25_x000D_\\n你好_...  \n",
       "1695  浙江/杭州0601-5725 2025-06-01 09:18:29_x000D_\\n你好_...  \n",
       "1696  湖南/长沙0531-1977 2025-06-01 09:02:35_x000D_\\n回收手...  \n",
       "1697  吉林/长春0531-4426 2025-06-01 09:02:03\\n人工客服\\n\\n吉林...  \n",
       "\n",
       "[1698 rows x 3 columns]"
      ]
     },
     "execution_count": 42,
     "metadata": {},
     "output_type": "execute_result"
    }
   ],
   "source": [
    "# all_data.head()\n",
    "data"
   ]
  },
  {
   "cell_type": "code",
   "execution_count": 46,
   "metadata": {},
   "outputs": [
    {
     "name": "stdout",
     "output_type": "stream",
     "text": [
      "未处理的会话数量: 0\n"
     ]
    },
    {
     "name": "stderr",
     "output_type": "stream",
     "text": [
      "处理会话: 0it [00:00, ?it/s]\n"
     ]
    }
   ],
   "source": [
    "try:\n",
    "    # 读取 Excel 数据\n",
    "    data = pd.read_excel(\"./danghuan.xlsx\")\n",
    "    # 获取已处理的会话 ID\n",
    "    processed_ids = set(doc['id'] for doc in conversations_collection.find({}, {'id': 1}))\n",
    "    # 筛选未处理的会话\n",
    "    unprocessed_conversations = [\n",
    "        {'id': row['会话ID'], 'content': row['会话详情内容']}\n",
    "        for _, row in data.iterrows()\n",
    "        if row['会话ID'] not in processed_ids\n",
    "    ]\n",
    "    print(f\"未处理的会话数量: {len(unprocessed_conversations)}\")\n",
    "    \n",
    "    results = multi_process_conversation_extraction(unprocessed_conversations,max_workers=new_max_workers,test_mode=False)\n",
    "except Exception as e:\n",
    "    print(f\"主程序执行错误: {str(e)}\")"
   ]
  },
  {
   "cell_type": "markdown",
   "metadata": {},
   "source": [
    "## 2. 会话信息更新"
   ]
  },
  {
   "cell_type": "code",
   "execution_count": 47,
   "metadata": {},
   "outputs": [],
   "source": [
    "import os\n",
    "# 获取系统的 CPU 核心数\n",
    "cpu_count = os.cpu_count()\n",
    "default_max_workers = cpu_count * 5  # 默认线程数\n",
    "# 设置新的 max_workers，增加 1.2 倍的线程数并转换为整数\n",
    "new_max_workers = int(default_max_workers * 1.3)"
   ]
  },
  {
   "cell_type": "code",
   "execution_count": 52,
   "metadata": {},
   "outputs": [],
   "source": [
    "from concurrent.futures import ThreadPoolExecutor, as_completed\n",
    "from typing import List\n",
    "from tqdm import tqdm\n",
    "\n",
    "def multi_process_conversation_update(\n",
    "    conversations: List[dict],  # 修改为字典列表以包含 conversation_id\n",
    "    max_workers: int = 4,\n",
    "    model=\"gpt-4o-mini\",\n",
    "    test_mode=True\n",
    ") -> List[dict]:\n",
    "    \"\"\"\n",
    "    并行处理评论并存储结果。\n",
    "\n",
    "    参数:\n",
    "        conversations: 包含会话数据和ID的字典列表\n",
    "        max_workers: 最大线程数\n",
    "        model: 使用的模型名称\n",
    "        test_mode: 是否为测试模式\n",
    "    返回:\n",
    "        处理结果的列表\n",
    "    \"\"\"\n",
    "    results = []\n",
    "    try:\n",
    "        with ThreadPoolExecutor(max_workers=max_workers) as executor:\n",
    "            future_to_conversation = {\n",
    "                executor.submit(\n",
    "                    process_single_conversation_update, \n",
    "                    conversation['content'], \n",
    "                    conversation['id'],  # 传递 conversation_id\n",
    "                    test_mode, \n",
    "                    model\n",
    "                ): conversation \n",
    "                for conversation in conversations\n",
    "            }\n",
    "            \n",
    "            for future in tqdm(\n",
    "                as_completed(future_to_conversation), \n",
    "                total=len(conversations),\n",
    "                desc=\"处理会话\"\n",
    "            ):\n",
    "                try:\n",
    "                    result = future.result()\n",
    "                    results.append(result)\n",
    "                except Exception as e:\n",
    "                    conversation = future_to_conversation[future]\n",
    "                    print(f\"处理会话 {conversation['id']} 时发生错误: {str(e)}\")\n",
    "                    \n",
    "    except Exception as e:\n",
    "        print(f\"批处理过程中发生错误: {str(e)}\")\n",
    "    \n",
    "    return results"
   ]
  },
  {
   "cell_type": "code",
   "execution_count": 53,
   "metadata": {},
   "outputs": [
    {
     "name": "stdout",
     "output_type": "stream",
     "text": [
      "未处理的会话数量: 3\n"
     ]
    },
    {
     "name": "stderr",
     "output_type": "stream",
     "text": [
      "处理会话:   0%|          | 0/3 [00:00<?, ?it/s]"
     ]
    },
    {
     "name": "stderr",
     "output_type": "stream",
     "text": [
      "处理会话:  33%|███▎      | 1/3 [00:05<00:11,  5.55s/it]"
     ]
    },
    {
     "name": "stdout",
     "output_type": "stream",
     "text": [
      "已更新一条数据到conversations集合\n"
     ]
    },
    {
     "name": "stderr",
     "output_type": "stream",
     "text": [
      "处理会话: 100%|██████████| 3/3 [00:06<00:00,  1.43s/it]"
     ]
    },
    {
     "name": "stdout",
     "output_type": "stream",
     "text": [
      "已更新一条数据到conversations集合\n",
      "已更新一条数据到conversations集合\n"
     ]
    },
    {
     "name": "stderr",
     "output_type": "stream",
     "text": [
      "处理会话: 100%|██████████| 3/3 [00:06<00:00,  2.03s/it]\n"
     ]
    }
   ],
   "source": [
    "try:\n",
    "    # 获取已处理的会话 ID（仅包含有 metrics 字段的文档）# 筛选未处理的会话\n",
    "    unprocessed_data =  conversations_collection.find({\"id\": {\"$exists\": True},\n",
    "                                                            \"metrics\": {\"$exists\": False}\n",
    "                                                        })\n",
    "    unprocessed_conversations = []\n",
    "    for row in unprocessed_data:\n",
    "        unprocessed_conversations.append({'id': row['id'], 'content': row['origin_conversation']})\n",
    "    print(f\"未处理的会话数量: {len(unprocessed_conversations)}\")\n",
    "    \n",
    "    results = multi_process_conversation_update(unprocessed_conversations, max_workers=new_max_workers, test_mode=False)\n",
    "except Exception as e:\n",
    "    print(f\"主程序执行错误: {str(e)}\")"
   ]
  },
  {
   "cell_type": "code",
   "execution_count": 54,
   "metadata": {},
   "outputs": [
    {
     "name": "stdout",
     "output_type": "stream",
     "text": [
      "未处理的会话数量: 0\n"
     ]
    }
   ],
   "source": [
    "unprocessed_data =  conversations_collection.find({\"id\": {\"$exists\": True},\n",
    "                                                        \"metrics\": {\"$exists\": False}\n",
    "                                                    })\n",
    "unprocessed_conversations = []\n",
    "for row in unprocessed_data:\n",
    "    unprocessed_conversations.append({'id': row['id'], 'content': row['origin_conversation']})\n",
    "print(f\"未处理的会话数量: {len(unprocessed_conversations)}\")"
   ]
  },
  {
   "cell_type": "markdown",
   "metadata": {},
   "source": [
    "# 数据清洗"
   ]
  },
  {
   "cell_type": "code",
   "execution_count": null,
   "metadata": {},
   "outputs": [],
   "source": []
  },
  {
   "cell_type": "code",
   "execution_count": null,
   "metadata": {},
   "outputs": [],
   "source": []
  },
  {
   "cell_type": "code",
   "execution_count": null,
   "metadata": {},
   "outputs": [],
   "source": []
  },
  {
   "cell_type": "code",
   "execution_count": null,
   "metadata": {},
   "outputs": [],
   "source": []
  }
 ],
 "metadata": {
  "kernelspec": {
   "display_name": "base",
   "language": "python",
   "name": "python3"
  },
  "language_info": {
   "codemirror_mode": {
    "name": "ipython",
    "version": 3
   },
   "file_extension": ".py",
   "mimetype": "text/x-python",
   "name": "python",
   "nbconvert_exporter": "python",
   "pygments_lexer": "ipython3",
   "version": "3.11.7"
  }
 },
 "nbformat": 4,
 "nbformat_minor": 2
}
